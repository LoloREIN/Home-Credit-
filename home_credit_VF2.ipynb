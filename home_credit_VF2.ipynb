{
 "cells": [
  {
   "cell_type": "markdown",
   "metadata": {},
   "source": [
    "# Home Credit Risk"
   ]
  },
  {
   "cell_type": "markdown",
   "metadata": {},
   "source": [
    "## Objetivo \n",
    "El principal objetivo de esta competencia de Data Science es desarrollar un modelo predictivo que identifique de manera eficaz a los clientes con una alta probabilidad de incumplimiento en sus obligaciones de pago de deudas. Esta herramienta de predicción debe no solo ser precisa en el corto plazo, sino también mostrar una estabilidad y fiabilidad a largo plazo.\n",
    "\n",
    "### Requisitos (puntos a cumplir)\n",
    " - Que sea preciso y confiable\n",
    " - Estable a largo plazo\n",
    "    - Sostenible que el modelo se ajuste conforme a las condiciones sin comprometer eficacia. \n",
    "        \n",
    "### Requisitos\n",
    "- Que no se use internet(el notebook)\n",
    "- CPU y GPU <= 12 horas de tiempo de corrida\n",
    "- Se puede usar información externa (modelos pre entrenados)\n",
    "- Se entrega en un archivo llamado \"submission.csv\""
   ]
  },
  {
   "cell_type": "markdown",
   "metadata": {},
   "source": [
    "## Evaluación\n",
    "\n",
    "1. Innovación - 40%: Analiza la estabilidad crediticia a lo largo del tiempo, centrándose específicamente en la métrica de evaluación de la competencia más allá de la simple selección de características. p.ej. Gini medio elevado, rendimiento no decreciente en el tiempo, pequeñas oscilaciones…\n",
    "2. Calidad - 20%: todas las tablas, figuras y/o muestras de código son de alta calidad (por ejemplo, densas en información, fáciles de entender e informativas).\n",
    "3. Claridad - 20%: la composición general es articulada, concisa, precisa y fácil de entender.\n",
    "4. Generalización (20%): la implementación de la estabilidad como métrica se puede aplicar a conjuntos de datos que no son de competencia."
   ]
  },
  {
   "cell_type": "markdown",
   "metadata": {},
   "source": [
    "## Entendimiento del negocio\n",
    "Para entender esta competencia hay que entender que es \"Home Credit\" y que es lo que nos pide el reto:"
   ]
  },
  {
   "cell_type": "markdown",
   "metadata": {},
   "source": [
    "### Reto\n",
    "El reto es generar el riesgo de posibles clientes, a manera de que los proveedores de finanzas puedan aceptar más préstamos, sobre todo a gente de edad temprana, gente que prefiere usar cash, lo que no les ha permitido generar un historial crediticio, nuestro deber es determinar de manera precisa si estos clientes pueden pagar o no.\n",
    "Es importante tener en cuenta que el comportamiento de los clientes cambia constantemente por lo que es importante que se puede actualizar, haciendo que el modelo sea estable, con el tiempo.\n"
   ]
  },
  {
   "cell_type": "markdown",
   "metadata": {},
   "source": [
    "### Empresa\n",
    "Home Credit es una institución financiera internacional que se especializa en la concesión de préstamos no garantizados a consumidores que típicamente tienen un acceso limitado a los servicios bancarios tradicionales. Fundada en 1997 en la República Checa, la compañía ha expandido sus operaciones a través de Europa, Asia y los Estados Unidos, ofreciendo una gama de productos financieros que incluyen préstamos al consumo, tarjetas de crédito y financiamiento en puntos de venta.\n",
    "La misión principal de Home Credit es proporcionar préstamos accesibles y sencillos a clientes que no tienen un historial crediticio extenso o que están excluidos del sistema bancario tradicional. Esto permite a más personas acceder a financiamiento para bienes de consumo y otros gastos personales, fomentando la inclusión financiera.\n"
   ]
  },
  {
   "cell_type": "markdown",
   "metadata": {},
   "source": [
    "# Procesamiento y entendimiento de datos"
   ]
  },
  {
   "cell_type": "code",
   "metadata": {
    "ExecuteTime": {
     "end_time": "2024-05-30T03:14:39.367149Z",
     "start_time": "2024-05-30T03:14:39.363349Z"
    }
   },
   "source": [
    "import numpy as np\n",
    "import pandas as pd\n",
    "import lightgbm as lgb\n",
    "from sklearn.model_selection import train_test_split\n",
    "from sklearn.metrics import roc_auc_score\n",
    "\n",
    "dataPath = \"home-credit-credit-risk-model-stability/\""
   ],
   "outputs": [],
   "execution_count": 25
  },
  {
   "cell_type": "code",
   "metadata": {
    "ExecuteTime": {
     "end_time": "2024-05-30T03:14:39.385864Z",
     "start_time": "2024-05-30T03:14:39.382916Z"
    }
   },
   "source": [
    "def set_table_dtypes(df: pd.DataFrame) -> pd.DataFrame:\n",
    "    for col in df.columns:\n",
    "        if col[-1] in (\"P\", \"A\"):\n",
    "            df[col] = df[col].astype(float)\n",
    "    return df\n",
    "\n",
    "def convert_strings(dataframe: pd.DataFrame) -> pd.DataFrame:    \n",
    "    df = dataframe.copy()\n",
    "    for col in df.columns:\n",
    "        if df[col].dtype == 'object':\n",
    "            df[col] = df[col].astype('category')\n",
    "            current_categories = df[col].cat.categories\n",
    "            new_categories = current_categories.to_list() + [\"Unknown\"]\n",
    "            new_dtype = pd.CategoricalDtype(categories=new_categories, ordered=True)\n",
    "            df[col] = df[col].astype(new_dtype)\n",
    "    return df\n"
   ],
   "outputs": [],
   "execution_count": 26
  },
  {
   "cell_type": "code",
   "metadata": {
    "ExecuteTime": {
     "end_time": "2024-05-30T03:15:22.029763Z",
     "start_time": "2024-05-30T03:14:39.409334Z"
    }
   },
   "source": [
    "# Load the data\n",
    "train_basetable = pd.read_csv(dataPath + \"csv_files/train/train_base.csv\")\n",
    "train_static = pd.concat(\n",
    "    [\n",
    "        pd.read_csv(dataPath + \"csv_files/train/train_static_0_0.csv\", low_memory=False).pipe(set_table_dtypes),\n",
    "        pd.read_csv(dataPath + \"csv_files/train/train_static_0_1.csv\", low_memory=False).pipe(set_table_dtypes),\n",
    "    ],\n",
    "    axis=0\n",
    ")\n",
    "train_static_cb = pd.read_csv(dataPath + \"csv_files/train/train_static_cb_0.csv\", low_memory=False).pipe(set_table_dtypes)\n",
    "train_person_1 = pd.read_csv(dataPath + \"csv_files/train/train_person_1.csv\", low_memory=False).pipe(set_table_dtypes)\n",
    "train_credit_bureau_b_2 = pd.read_csv(dataPath + \"csv_files/train/train_credit_bureau_b_2.csv\").pipe(set_table_dtypes)\n"
   ],
   "outputs": [],
   "execution_count": 27
  },
  {
   "cell_type": "code",
   "metadata": {
    "ExecuteTime": {
     "end_time": "2024-05-30T03:15:22.064994Z",
     "start_time": "2024-05-30T03:15:22.031436Z"
    }
   },
   "source": [
    "train_basetable.isnull().sum()"
   ],
   "outputs": [
    {
     "data": {
      "text/plain": [
       "case_id          0\n",
       "date_decision    0\n",
       "MONTH            0\n",
       "WEEK_NUM         0\n",
       "target           0\n",
       "dtype: int64"
      ]
     },
     "execution_count": 28,
     "metadata": {},
     "output_type": "execute_result"
    }
   ],
   "execution_count": 28
  },
  {
   "cell_type": "code",
   "metadata": {
    "ExecuteTime": {
     "end_time": "2024-05-30T03:15:22.128613Z",
     "start_time": "2024-05-30T03:15:22.065520Z"
    }
   },
   "source": [
    "train_basetable.describe()"
   ],
   "outputs": [
    {
     "data": {
      "text/plain": [
       "            case_id         MONTH      WEEK_NUM        target\n",
       "count  1.526659e+06  1.526659e+06  1.526659e+06  1.526659e+06\n",
       "mean   1.286077e+06  2.019363e+05  4.076904e+01  3.143728e-02\n",
       "std    7.189466e+05  4.473597e+01  2.379798e+01  1.744964e-01\n",
       "min    0.000000e+00  2.019010e+05  0.000000e+00  0.000000e+00\n",
       "25%    7.661975e+05  2.019060e+05  2.300000e+01  0.000000e+00\n",
       "50%    1.357358e+06  2.019100e+05  4.000000e+01  0.000000e+00\n",
       "75%    1.739022e+06  2.020010e+05  5.500000e+01  0.000000e+00\n",
       "max    2.703454e+06  2.020100e+05  9.100000e+01  1.000000e+00"
      ],
      "text/html": [
       "<div>\n",
       "<style scoped>\n",
       "    .dataframe tbody tr th:only-of-type {\n",
       "        vertical-align: middle;\n",
       "    }\n",
       "\n",
       "    .dataframe tbody tr th {\n",
       "        vertical-align: top;\n",
       "    }\n",
       "\n",
       "    .dataframe thead th {\n",
       "        text-align: right;\n",
       "    }\n",
       "</style>\n",
       "<table border=\"1\" class=\"dataframe\">\n",
       "  <thead>\n",
       "    <tr style=\"text-align: right;\">\n",
       "      <th></th>\n",
       "      <th>case_id</th>\n",
       "      <th>MONTH</th>\n",
       "      <th>WEEK_NUM</th>\n",
       "      <th>target</th>\n",
       "    </tr>\n",
       "  </thead>\n",
       "  <tbody>\n",
       "    <tr>\n",
       "      <th>count</th>\n",
       "      <td>1.526659e+06</td>\n",
       "      <td>1.526659e+06</td>\n",
       "      <td>1.526659e+06</td>\n",
       "      <td>1.526659e+06</td>\n",
       "    </tr>\n",
       "    <tr>\n",
       "      <th>mean</th>\n",
       "      <td>1.286077e+06</td>\n",
       "      <td>2.019363e+05</td>\n",
       "      <td>4.076904e+01</td>\n",
       "      <td>3.143728e-02</td>\n",
       "    </tr>\n",
       "    <tr>\n",
       "      <th>std</th>\n",
       "      <td>7.189466e+05</td>\n",
       "      <td>4.473597e+01</td>\n",
       "      <td>2.379798e+01</td>\n",
       "      <td>1.744964e-01</td>\n",
       "    </tr>\n",
       "    <tr>\n",
       "      <th>min</th>\n",
       "      <td>0.000000e+00</td>\n",
       "      <td>2.019010e+05</td>\n",
       "      <td>0.000000e+00</td>\n",
       "      <td>0.000000e+00</td>\n",
       "    </tr>\n",
       "    <tr>\n",
       "      <th>25%</th>\n",
       "      <td>7.661975e+05</td>\n",
       "      <td>2.019060e+05</td>\n",
       "      <td>2.300000e+01</td>\n",
       "      <td>0.000000e+00</td>\n",
       "    </tr>\n",
       "    <tr>\n",
       "      <th>50%</th>\n",
       "      <td>1.357358e+06</td>\n",
       "      <td>2.019100e+05</td>\n",
       "      <td>4.000000e+01</td>\n",
       "      <td>0.000000e+00</td>\n",
       "    </tr>\n",
       "    <tr>\n",
       "      <th>75%</th>\n",
       "      <td>1.739022e+06</td>\n",
       "      <td>2.020010e+05</td>\n",
       "      <td>5.500000e+01</td>\n",
       "      <td>0.000000e+00</td>\n",
       "    </tr>\n",
       "    <tr>\n",
       "      <th>max</th>\n",
       "      <td>2.703454e+06</td>\n",
       "      <td>2.020100e+05</td>\n",
       "      <td>9.100000e+01</td>\n",
       "      <td>1.000000e+00</td>\n",
       "    </tr>\n",
       "  </tbody>\n",
       "</table>\n",
       "</div>"
      ]
     },
     "execution_count": 29,
     "metadata": {},
     "output_type": "execute_result"
    }
   ],
   "execution_count": 29
  },
  {
   "cell_type": "code",
   "metadata": {
    "ExecuteTime": {
     "end_time": "2024-05-30T03:15:23.595222Z",
     "start_time": "2024-05-30T03:15:22.129964Z"
    }
   },
   "source": [
    "train_static.isnull().sum()"
   ],
   "outputs": [
    {
     "data": {
      "text/plain": [
       "case_id                                 0\n",
       "actualdpdtolerance_344P            418178\n",
       "amtinstpaidbefduel24m_4187115A     561124\n",
       "annuity_780A                            0\n",
       "annuitynextmonth_57A                    4\n",
       "                                   ...   \n",
       "totalsettled_863A                       4\n",
       "totinstallast1m_4525188A          1174211\n",
       "twobodfilling_608L                     91\n",
       "typesuite_864L                    1121505\n",
       "validfrom_1069D                   1374886\n",
       "Length: 168, dtype: int64"
      ]
     },
     "execution_count": 30,
     "metadata": {},
     "output_type": "execute_result"
    }
   ],
   "execution_count": 30
  },
  {
   "cell_type": "code",
   "metadata": {
    "ExecuteTime": {
     "end_time": "2024-05-30T03:15:29.616186Z",
     "start_time": "2024-05-30T03:15:23.596027Z"
    }
   },
   "source": [
    "train_static.describe()"
   ],
   "outputs": [
    {
     "data": {
      "text/plain": [
       "            case_id  actualdpdtolerance_344P  amtinstpaidbefduel24m_4187115A  \\\n",
       "count  1.526659e+06             1.108481e+06                    9.655350e+05   \n",
       "mean   1.286077e+06             7.923365e-02                    5.595833e+04   \n",
       "std    7.189466e+05             1.120652e+01                    7.161417e+04   \n",
       "min    0.000000e+00             0.000000e+00                    0.000000e+00   \n",
       "25%    7.661975e+05             0.000000e+00                    7.419200e+03   \n",
       "50%    1.357358e+06             0.000000e+00                    2.975840e+04   \n",
       "75%    1.739022e+06             0.000000e+00                    7.630295e+04   \n",
       "max    2.703454e+06             4.206000e+03                    1.408010e+06   \n",
       "\n",
       "       annuity_780A  annuitynextmonth_57A  applicationcnt_361L  \\\n",
       "count  1.526659e+06          1.526655e+06         1.526659e+06   \n",
       "mean   4.039207e+03          1.435775e+03         2.161583e-05   \n",
       "std    3.006608e+03          2.807021e+03         8.133702e-03   \n",
       "min    8.080000e+01          0.000000e+00         0.000000e+00   \n",
       "25%    1.967600e+03          0.000000e+00         0.000000e+00   \n",
       "50%    3.151800e+03          0.000000e+00         0.000000e+00   \n",
       "75%    5.231400e+03          2.029400e+03         0.000000e+00   \n",
       "max    1.060070e+05          8.750000e+04         5.000000e+00   \n",
       "\n",
       "       applications30d_658L  applicationscnt_1086L  applicationscnt_464L  \\\n",
       "count          1.526659e+06           1.526659e+06          1.526659e+06   \n",
       "mean           1.381520e-01           4.245100e-01          1.073578e+00   \n",
       "std            4.886632e-01           3.128111e+00          9.715778e+00   \n",
       "min            0.000000e+00           0.000000e+00          0.000000e+00   \n",
       "25%            0.000000e+00           0.000000e+00          0.000000e+00   \n",
       "50%            0.000000e+00           0.000000e+00          0.000000e+00   \n",
       "75%            0.000000e+00           0.000000e+00          0.000000e+00   \n",
       "max            2.800000e+01           7.280000e+02          2.470000e+02   \n",
       "\n",
       "       applicationscnt_629L  ...  posfpd30lastmonth_3976960P  \\\n",
       "count          1.526659e+06  ...                1.394771e+06   \n",
       "mean           2.687129e-01  ...                8.049350e-03   \n",
       "std            2.464199e+00  ...                8.935639e-02   \n",
       "min            0.000000e+00  ...                0.000000e+00   \n",
       "25%            0.000000e+00  ...                0.000000e+00   \n",
       "50%            0.000000e+00  ...                0.000000e+00   \n",
       "75%            0.000000e+00  ...                0.000000e+00   \n",
       "max            9.000000e+01  ...                1.000000e+00   \n",
       "\n",
       "       posfstqpd30lastmonth_3976962P   price_1097A  sellerplacecnt_915L  \\\n",
       "count                   1.345537e+06  1.303419e+06         1.526659e+06   \n",
       "mean                    3.052462e-02  3.446497e+04         1.628451e-01   \n",
       "std                     1.720258e-01  3.448316e+04         4.502503e-01   \n",
       "min                     0.000000e+00  0.000000e+00         0.000000e+00   \n",
       "25%                     0.000000e+00  1.380000e+04         0.000000e+00   \n",
       "50%                     0.000000e+00  2.515600e+04         0.000000e+00   \n",
       "75%                     0.000000e+00  4.532000e+04         0.000000e+00   \n",
       "max                     1.000000e+00  7.618674e+05         8.000000e+00   \n",
       "\n",
       "       sellerplacescnt_216L  sumoutstandtotal_3546847A  \\\n",
       "count          1.526659e+06               1.081339e+06   \n",
       "mean           1.615547e+00               2.768127e+04   \n",
       "std            2.061152e+00               5.840378e+04   \n",
       "min            0.000000e+00              -2.504400e+04   \n",
       "25%            0.000000e+00               0.000000e+00   \n",
       "50%            1.000000e+00               0.000000e+00   \n",
       "75%            2.000000e+00               2.799400e+04   \n",
       "max            1.020000e+02               1.210629e+06   \n",
       "\n",
       "       sumoutstandtotalest_4493215A  totaldebt_9A  totalsettled_863A  \\\n",
       "count                  6.860130e+05  1.526656e+06       1.526655e+06   \n",
       "mean                   2.830974e+04  1.968312e+04       9.223817e+04   \n",
       "std                    6.050010e+04  5.083603e+04       1.623358e+05   \n",
       "min                   -2.504400e+04  0.000000e+00       0.000000e+00   \n",
       "25%                    0.000000e+00  0.000000e+00       0.000000e+00   \n",
       "50%                    0.000000e+00  0.000000e+00       3.597766e+04   \n",
       "75%                    2.798400e+04  1.349310e+04       1.188157e+05   \n",
       "max                    1.085048e+06  1.210629e+06       4.803504e+07   \n",
       "\n",
       "       totinstallast1m_4525188A  \n",
       "count             352448.000000  \n",
       "mean               10411.377565  \n",
       "std                16222.912082  \n",
       "min                    0.214000  \n",
       "25%                 3309.314000  \n",
       "50%                 6221.200000  \n",
       "75%                11685.000000  \n",
       "max               794899.200000  \n",
       "\n",
       "[8 rows x 129 columns]"
      ],
      "text/html": [
       "<div>\n",
       "<style scoped>\n",
       "    .dataframe tbody tr th:only-of-type {\n",
       "        vertical-align: middle;\n",
       "    }\n",
       "\n",
       "    .dataframe tbody tr th {\n",
       "        vertical-align: top;\n",
       "    }\n",
       "\n",
       "    .dataframe thead th {\n",
       "        text-align: right;\n",
       "    }\n",
       "</style>\n",
       "<table border=\"1\" class=\"dataframe\">\n",
       "  <thead>\n",
       "    <tr style=\"text-align: right;\">\n",
       "      <th></th>\n",
       "      <th>case_id</th>\n",
       "      <th>actualdpdtolerance_344P</th>\n",
       "      <th>amtinstpaidbefduel24m_4187115A</th>\n",
       "      <th>annuity_780A</th>\n",
       "      <th>annuitynextmonth_57A</th>\n",
       "      <th>applicationcnt_361L</th>\n",
       "      <th>applications30d_658L</th>\n",
       "      <th>applicationscnt_1086L</th>\n",
       "      <th>applicationscnt_464L</th>\n",
       "      <th>applicationscnt_629L</th>\n",
       "      <th>...</th>\n",
       "      <th>posfpd30lastmonth_3976960P</th>\n",
       "      <th>posfstqpd30lastmonth_3976962P</th>\n",
       "      <th>price_1097A</th>\n",
       "      <th>sellerplacecnt_915L</th>\n",
       "      <th>sellerplacescnt_216L</th>\n",
       "      <th>sumoutstandtotal_3546847A</th>\n",
       "      <th>sumoutstandtotalest_4493215A</th>\n",
       "      <th>totaldebt_9A</th>\n",
       "      <th>totalsettled_863A</th>\n",
       "      <th>totinstallast1m_4525188A</th>\n",
       "    </tr>\n",
       "  </thead>\n",
       "  <tbody>\n",
       "    <tr>\n",
       "      <th>count</th>\n",
       "      <td>1.526659e+06</td>\n",
       "      <td>1.108481e+06</td>\n",
       "      <td>9.655350e+05</td>\n",
       "      <td>1.526659e+06</td>\n",
       "      <td>1.526655e+06</td>\n",
       "      <td>1.526659e+06</td>\n",
       "      <td>1.526659e+06</td>\n",
       "      <td>1.526659e+06</td>\n",
       "      <td>1.526659e+06</td>\n",
       "      <td>1.526659e+06</td>\n",
       "      <td>...</td>\n",
       "      <td>1.394771e+06</td>\n",
       "      <td>1.345537e+06</td>\n",
       "      <td>1.303419e+06</td>\n",
       "      <td>1.526659e+06</td>\n",
       "      <td>1.526659e+06</td>\n",
       "      <td>1.081339e+06</td>\n",
       "      <td>6.860130e+05</td>\n",
       "      <td>1.526656e+06</td>\n",
       "      <td>1.526655e+06</td>\n",
       "      <td>352448.000000</td>\n",
       "    </tr>\n",
       "    <tr>\n",
       "      <th>mean</th>\n",
       "      <td>1.286077e+06</td>\n",
       "      <td>7.923365e-02</td>\n",
       "      <td>5.595833e+04</td>\n",
       "      <td>4.039207e+03</td>\n",
       "      <td>1.435775e+03</td>\n",
       "      <td>2.161583e-05</td>\n",
       "      <td>1.381520e-01</td>\n",
       "      <td>4.245100e-01</td>\n",
       "      <td>1.073578e+00</td>\n",
       "      <td>2.687129e-01</td>\n",
       "      <td>...</td>\n",
       "      <td>8.049350e-03</td>\n",
       "      <td>3.052462e-02</td>\n",
       "      <td>3.446497e+04</td>\n",
       "      <td>1.628451e-01</td>\n",
       "      <td>1.615547e+00</td>\n",
       "      <td>2.768127e+04</td>\n",
       "      <td>2.830974e+04</td>\n",
       "      <td>1.968312e+04</td>\n",
       "      <td>9.223817e+04</td>\n",
       "      <td>10411.377565</td>\n",
       "    </tr>\n",
       "    <tr>\n",
       "      <th>std</th>\n",
       "      <td>7.189466e+05</td>\n",
       "      <td>1.120652e+01</td>\n",
       "      <td>7.161417e+04</td>\n",
       "      <td>3.006608e+03</td>\n",
       "      <td>2.807021e+03</td>\n",
       "      <td>8.133702e-03</td>\n",
       "      <td>4.886632e-01</td>\n",
       "      <td>3.128111e+00</td>\n",
       "      <td>9.715778e+00</td>\n",
       "      <td>2.464199e+00</td>\n",
       "      <td>...</td>\n",
       "      <td>8.935639e-02</td>\n",
       "      <td>1.720258e-01</td>\n",
       "      <td>3.448316e+04</td>\n",
       "      <td>4.502503e-01</td>\n",
       "      <td>2.061152e+00</td>\n",
       "      <td>5.840378e+04</td>\n",
       "      <td>6.050010e+04</td>\n",
       "      <td>5.083603e+04</td>\n",
       "      <td>1.623358e+05</td>\n",
       "      <td>16222.912082</td>\n",
       "    </tr>\n",
       "    <tr>\n",
       "      <th>min</th>\n",
       "      <td>0.000000e+00</td>\n",
       "      <td>0.000000e+00</td>\n",
       "      <td>0.000000e+00</td>\n",
       "      <td>8.080000e+01</td>\n",
       "      <td>0.000000e+00</td>\n",
       "      <td>0.000000e+00</td>\n",
       "      <td>0.000000e+00</td>\n",
       "      <td>0.000000e+00</td>\n",
       "      <td>0.000000e+00</td>\n",
       "      <td>0.000000e+00</td>\n",
       "      <td>...</td>\n",
       "      <td>0.000000e+00</td>\n",
       "      <td>0.000000e+00</td>\n",
       "      <td>0.000000e+00</td>\n",
       "      <td>0.000000e+00</td>\n",
       "      <td>0.000000e+00</td>\n",
       "      <td>-2.504400e+04</td>\n",
       "      <td>-2.504400e+04</td>\n",
       "      <td>0.000000e+00</td>\n",
       "      <td>0.000000e+00</td>\n",
       "      <td>0.214000</td>\n",
       "    </tr>\n",
       "    <tr>\n",
       "      <th>25%</th>\n",
       "      <td>7.661975e+05</td>\n",
       "      <td>0.000000e+00</td>\n",
       "      <td>7.419200e+03</td>\n",
       "      <td>1.967600e+03</td>\n",
       "      <td>0.000000e+00</td>\n",
       "      <td>0.000000e+00</td>\n",
       "      <td>0.000000e+00</td>\n",
       "      <td>0.000000e+00</td>\n",
       "      <td>0.000000e+00</td>\n",
       "      <td>0.000000e+00</td>\n",
       "      <td>...</td>\n",
       "      <td>0.000000e+00</td>\n",
       "      <td>0.000000e+00</td>\n",
       "      <td>1.380000e+04</td>\n",
       "      <td>0.000000e+00</td>\n",
       "      <td>0.000000e+00</td>\n",
       "      <td>0.000000e+00</td>\n",
       "      <td>0.000000e+00</td>\n",
       "      <td>0.000000e+00</td>\n",
       "      <td>0.000000e+00</td>\n",
       "      <td>3309.314000</td>\n",
       "    </tr>\n",
       "    <tr>\n",
       "      <th>50%</th>\n",
       "      <td>1.357358e+06</td>\n",
       "      <td>0.000000e+00</td>\n",
       "      <td>2.975840e+04</td>\n",
       "      <td>3.151800e+03</td>\n",
       "      <td>0.000000e+00</td>\n",
       "      <td>0.000000e+00</td>\n",
       "      <td>0.000000e+00</td>\n",
       "      <td>0.000000e+00</td>\n",
       "      <td>0.000000e+00</td>\n",
       "      <td>0.000000e+00</td>\n",
       "      <td>...</td>\n",
       "      <td>0.000000e+00</td>\n",
       "      <td>0.000000e+00</td>\n",
       "      <td>2.515600e+04</td>\n",
       "      <td>0.000000e+00</td>\n",
       "      <td>1.000000e+00</td>\n",
       "      <td>0.000000e+00</td>\n",
       "      <td>0.000000e+00</td>\n",
       "      <td>0.000000e+00</td>\n",
       "      <td>3.597766e+04</td>\n",
       "      <td>6221.200000</td>\n",
       "    </tr>\n",
       "    <tr>\n",
       "      <th>75%</th>\n",
       "      <td>1.739022e+06</td>\n",
       "      <td>0.000000e+00</td>\n",
       "      <td>7.630295e+04</td>\n",
       "      <td>5.231400e+03</td>\n",
       "      <td>2.029400e+03</td>\n",
       "      <td>0.000000e+00</td>\n",
       "      <td>0.000000e+00</td>\n",
       "      <td>0.000000e+00</td>\n",
       "      <td>0.000000e+00</td>\n",
       "      <td>0.000000e+00</td>\n",
       "      <td>...</td>\n",
       "      <td>0.000000e+00</td>\n",
       "      <td>0.000000e+00</td>\n",
       "      <td>4.532000e+04</td>\n",
       "      <td>0.000000e+00</td>\n",
       "      <td>2.000000e+00</td>\n",
       "      <td>2.799400e+04</td>\n",
       "      <td>2.798400e+04</td>\n",
       "      <td>1.349310e+04</td>\n",
       "      <td>1.188157e+05</td>\n",
       "      <td>11685.000000</td>\n",
       "    </tr>\n",
       "    <tr>\n",
       "      <th>max</th>\n",
       "      <td>2.703454e+06</td>\n",
       "      <td>4.206000e+03</td>\n",
       "      <td>1.408010e+06</td>\n",
       "      <td>1.060070e+05</td>\n",
       "      <td>8.750000e+04</td>\n",
       "      <td>5.000000e+00</td>\n",
       "      <td>2.800000e+01</td>\n",
       "      <td>7.280000e+02</td>\n",
       "      <td>2.470000e+02</td>\n",
       "      <td>9.000000e+01</td>\n",
       "      <td>...</td>\n",
       "      <td>1.000000e+00</td>\n",
       "      <td>1.000000e+00</td>\n",
       "      <td>7.618674e+05</td>\n",
       "      <td>8.000000e+00</td>\n",
       "      <td>1.020000e+02</td>\n",
       "      <td>1.210629e+06</td>\n",
       "      <td>1.085048e+06</td>\n",
       "      <td>1.210629e+06</td>\n",
       "      <td>4.803504e+07</td>\n",
       "      <td>794899.200000</td>\n",
       "    </tr>\n",
       "  </tbody>\n",
       "</table>\n",
       "<p>8 rows × 129 columns</p>\n",
       "</div>"
      ]
     },
     "execution_count": 31,
     "metadata": {},
     "output_type": "execute_result"
    }
   ],
   "execution_count": 31
  },
  {
   "cell_type": "code",
   "metadata": {
    "ExecuteTime": {
     "end_time": "2024-05-30T03:15:30.090477Z",
     "start_time": "2024-05-30T03:15:29.617202Z"
    }
   },
   "source": [
    "train_static_cb.isnull().sum()"
   ],
   "outputs": [
    {
     "data": {
      "text/plain": [
       "case_id                          0\n",
       "assignmentdate_238D        1363480\n",
       "assignmentdate_4527235D    1385498\n",
       "assignmentdate_4955616D    1428843\n",
       "birthdate_574D              892605\n",
       "contractssum_5085716L      1343147\n",
       "dateofbirth_337D            114785\n",
       "dateofbirth_342D           1463976\n",
       "days120_123L                114785\n",
       "days180_256L                114785\n",
       "days30_165L                 114785\n",
       "days360_512L                114785\n",
       "days90_310L                 114785\n",
       "description_5085714M             0\n",
       "education_1103M                  0\n",
       "education_88M                    0\n",
       "firstquarter_103L           114785\n",
       "for3years_128L             1463962\n",
       "for3years_504L             1463962\n",
       "for3years_584L             1463962\n",
       "formonth_118L              1463962\n",
       "formonth_206L              1463962\n",
       "formonth_535L              1463962\n",
       "forquarter_1017L           1463962\n",
       "forquarter_462L            1463962\n",
       "forquarter_634L            1463962\n",
       "fortoday_1092L             1463962\n",
       "forweek_1077L              1463962\n",
       "forweek_528L               1463962\n",
       "forweek_601L               1463962\n",
       "foryear_618L               1463962\n",
       "foryear_818L               1463962\n",
       "foryear_850L               1463962\n",
       "fourthquarter_440L          114785\n",
       "maritalst_385M                   0\n",
       "maritalst_893M                   0\n",
       "numberofqueries_373L        114785\n",
       "pmtaverage_3A              1356887\n",
       "pmtaverage_4527227A        1385498\n",
       "pmtaverage_4955615A        1428631\n",
       "pmtcount_4527229L          1385498\n",
       "pmtcount_4955617L          1428631\n",
       "pmtcount_693L              1354070\n",
       "pmtscount_423L              927838\n",
       "pmtssum_45A                 927838\n",
       "requesttype_4525192L        827212\n",
       "responsedate_1012D          780476\n",
       "responsedate_4527233D       840149\n",
       "responsedate_4917613D      1275564\n",
       "riskassesment_302T         1446917\n",
       "riskassesment_940T         1446916\n",
       "secondquarter_766L          114785\n",
       "thirdquarter_1082L          114785\n",
       "dtype: int64"
      ]
     },
     "execution_count": 32,
     "metadata": {},
     "output_type": "execute_result"
    }
   ],
   "execution_count": 32
  },
  {
   "cell_type": "code",
   "metadata": {
    "ExecuteTime": {
     "end_time": "2024-05-30T03:15:31.349882Z",
     "start_time": "2024-05-30T03:15:30.091575Z"
    }
   },
   "source": [
    "train_static_cb.describe()"
   ],
   "outputs": [
    {
     "data": {
      "text/plain": [
       "            case_id  contractssum_5085716L  days120_123L  days180_256L  \\\n",
       "count  1.500476e+06           1.573290e+05  1.385691e+06  1.385691e+06   \n",
       "mean   1.284032e+06           6.416044e+05  1.607715e+00  2.388656e+00   \n",
       "std    7.160881e+05           9.803273e+05  2.083003e+00  2.891115e+00   \n",
       "min    3.570000e+02           0.000000e+00  0.000000e+00  0.000000e+00   \n",
       "25%    7.685088e+05           7.853195e+04  0.000000e+00  0.000000e+00   \n",
       "50%    1.361878e+06           3.072824e+05  1.000000e+00  2.000000e+00   \n",
       "75%    1.737010e+06           8.021141e+05  2.000000e+00  3.000000e+00   \n",
       "max    2.703454e+06           3.129676e+07  1.090000e+02  1.100000e+02   \n",
       "\n",
       "        days30_165L  days360_512L   days90_310L  firstquarter_103L  \\\n",
       "count  1.385691e+06  1.385691e+06  1.385691e+06       1.385691e+06   \n",
       "mean   5.177078e-01  4.777066e+00  1.211420e+00       2.860590e+00   \n",
       "std    8.992377e-01  5.168856e+00  1.655931e+00       3.610966e+00   \n",
       "min    0.000000e+00  0.000000e+00  0.000000e+00       0.000000e+00   \n",
       "25%    0.000000e+00  1.000000e+00  0.000000e+00       0.000000e+00   \n",
       "50%    0.000000e+00  3.000000e+00  1.000000e+00       2.000000e+00   \n",
       "75%    1.000000e+00  6.500000e+00  2.000000e+00       4.000000e+00   \n",
       "max    2.200000e+01  1.150000e+02  4.100000e+01       7.600000e+01   \n",
       "\n",
       "       for3years_128L  for3years_504L  ...  pmtaverage_4527227A  \\\n",
       "count    36514.000000    36514.000000  ...        114978.000000   \n",
       "mean         0.000082        4.382346  ...         10033.556094   \n",
       "std          0.009064        5.815514  ...          5455.843604   \n",
       "min          0.000000        0.000000  ...             4.200000   \n",
       "25%          0.000000        0.000000  ...          7192.000000   \n",
       "50%          0.000000        2.000000  ...          7553.000000   \n",
       "75%          0.000000        6.000000  ...         13464.400000   \n",
       "max          1.000000       57.000000  ...        205848.610000   \n",
       "\n",
       "       pmtaverage_4955615A  pmtcount_4527229L  pmtcount_4955617L  \\\n",
       "count         71845.000000      114978.000000       71845.000000   \n",
       "mean          17651.732489           6.598027          13.061118   \n",
       "std            6871.642301           2.188992           1.855216   \n",
       "min               4.400000           1.000000           1.000000   \n",
       "25%           13664.601000           6.000000          12.000000   \n",
       "50%           15765.200000           6.000000          14.000000   \n",
       "75%           21840.000000           6.000000          14.000000   \n",
       "max           99085.400000          15.000000          16.000000   \n",
       "\n",
       "       pmtcount_693L  pmtscount_423L    pmtssum_45A  riskassesment_940T  \\\n",
       "count  146406.000000   572638.000000  572638.000000        53560.000000   \n",
       "mean        5.714991        5.839291   13199.935970            0.225968   \n",
       "std         1.758117        4.148264   18117.218312            0.976170   \n",
       "min         0.000000        0.000000       0.000000           -3.670423   \n",
       "25%         6.000000        3.000000    3156.400100           -0.227985   \n",
       "50%         6.000000        6.000000    8391.900000            0.371834   \n",
       "75%         6.000000        7.000000   16992.000000            0.971653   \n",
       "max        66.000000      121.000000  476843.400000            2.119132   \n",
       "\n",
       "       secondquarter_766L  thirdquarter_1082L  \n",
       "count        1.385691e+06        1.385691e+06  \n",
       "mean         2.688482e+00        2.918342e+00  \n",
       "std          3.324546e+00        3.423862e+00  \n",
       "min          0.000000e+00        0.000000e+00  \n",
       "25%          0.000000e+00        0.000000e+00  \n",
       "50%          2.000000e+00        2.000000e+00  \n",
       "75%          4.000000e+00        4.000000e+00  \n",
       "max          1.090000e+02        6.200000e+01  \n",
       "\n",
       "[8 rows x 37 columns]"
      ],
      "text/html": [
       "<div>\n",
       "<style scoped>\n",
       "    .dataframe tbody tr th:only-of-type {\n",
       "        vertical-align: middle;\n",
       "    }\n",
       "\n",
       "    .dataframe tbody tr th {\n",
       "        vertical-align: top;\n",
       "    }\n",
       "\n",
       "    .dataframe thead th {\n",
       "        text-align: right;\n",
       "    }\n",
       "</style>\n",
       "<table border=\"1\" class=\"dataframe\">\n",
       "  <thead>\n",
       "    <tr style=\"text-align: right;\">\n",
       "      <th></th>\n",
       "      <th>case_id</th>\n",
       "      <th>contractssum_5085716L</th>\n",
       "      <th>days120_123L</th>\n",
       "      <th>days180_256L</th>\n",
       "      <th>days30_165L</th>\n",
       "      <th>days360_512L</th>\n",
       "      <th>days90_310L</th>\n",
       "      <th>firstquarter_103L</th>\n",
       "      <th>for3years_128L</th>\n",
       "      <th>for3years_504L</th>\n",
       "      <th>...</th>\n",
       "      <th>pmtaverage_4527227A</th>\n",
       "      <th>pmtaverage_4955615A</th>\n",
       "      <th>pmtcount_4527229L</th>\n",
       "      <th>pmtcount_4955617L</th>\n",
       "      <th>pmtcount_693L</th>\n",
       "      <th>pmtscount_423L</th>\n",
       "      <th>pmtssum_45A</th>\n",
       "      <th>riskassesment_940T</th>\n",
       "      <th>secondquarter_766L</th>\n",
       "      <th>thirdquarter_1082L</th>\n",
       "    </tr>\n",
       "  </thead>\n",
       "  <tbody>\n",
       "    <tr>\n",
       "      <th>count</th>\n",
       "      <td>1.500476e+06</td>\n",
       "      <td>1.573290e+05</td>\n",
       "      <td>1.385691e+06</td>\n",
       "      <td>1.385691e+06</td>\n",
       "      <td>1.385691e+06</td>\n",
       "      <td>1.385691e+06</td>\n",
       "      <td>1.385691e+06</td>\n",
       "      <td>1.385691e+06</td>\n",
       "      <td>36514.000000</td>\n",
       "      <td>36514.000000</td>\n",
       "      <td>...</td>\n",
       "      <td>114978.000000</td>\n",
       "      <td>71845.000000</td>\n",
       "      <td>114978.000000</td>\n",
       "      <td>71845.000000</td>\n",
       "      <td>146406.000000</td>\n",
       "      <td>572638.000000</td>\n",
       "      <td>572638.000000</td>\n",
       "      <td>53560.000000</td>\n",
       "      <td>1.385691e+06</td>\n",
       "      <td>1.385691e+06</td>\n",
       "    </tr>\n",
       "    <tr>\n",
       "      <th>mean</th>\n",
       "      <td>1.284032e+06</td>\n",
       "      <td>6.416044e+05</td>\n",
       "      <td>1.607715e+00</td>\n",
       "      <td>2.388656e+00</td>\n",
       "      <td>5.177078e-01</td>\n",
       "      <td>4.777066e+00</td>\n",
       "      <td>1.211420e+00</td>\n",
       "      <td>2.860590e+00</td>\n",
       "      <td>0.000082</td>\n",
       "      <td>4.382346</td>\n",
       "      <td>...</td>\n",
       "      <td>10033.556094</td>\n",
       "      <td>17651.732489</td>\n",
       "      <td>6.598027</td>\n",
       "      <td>13.061118</td>\n",
       "      <td>5.714991</td>\n",
       "      <td>5.839291</td>\n",
       "      <td>13199.935970</td>\n",
       "      <td>0.225968</td>\n",
       "      <td>2.688482e+00</td>\n",
       "      <td>2.918342e+00</td>\n",
       "    </tr>\n",
       "    <tr>\n",
       "      <th>std</th>\n",
       "      <td>7.160881e+05</td>\n",
       "      <td>9.803273e+05</td>\n",
       "      <td>2.083003e+00</td>\n",
       "      <td>2.891115e+00</td>\n",
       "      <td>8.992377e-01</td>\n",
       "      <td>5.168856e+00</td>\n",
       "      <td>1.655931e+00</td>\n",
       "      <td>3.610966e+00</td>\n",
       "      <td>0.009064</td>\n",
       "      <td>5.815514</td>\n",
       "      <td>...</td>\n",
       "      <td>5455.843604</td>\n",
       "      <td>6871.642301</td>\n",
       "      <td>2.188992</td>\n",
       "      <td>1.855216</td>\n",
       "      <td>1.758117</td>\n",
       "      <td>4.148264</td>\n",
       "      <td>18117.218312</td>\n",
       "      <td>0.976170</td>\n",
       "      <td>3.324546e+00</td>\n",
       "      <td>3.423862e+00</td>\n",
       "    </tr>\n",
       "    <tr>\n",
       "      <th>min</th>\n",
       "      <td>3.570000e+02</td>\n",
       "      <td>0.000000e+00</td>\n",
       "      <td>0.000000e+00</td>\n",
       "      <td>0.000000e+00</td>\n",
       "      <td>0.000000e+00</td>\n",
       "      <td>0.000000e+00</td>\n",
       "      <td>0.000000e+00</td>\n",
       "      <td>0.000000e+00</td>\n",
       "      <td>0.000000</td>\n",
       "      <td>0.000000</td>\n",
       "      <td>...</td>\n",
       "      <td>4.200000</td>\n",
       "      <td>4.400000</td>\n",
       "      <td>1.000000</td>\n",
       "      <td>1.000000</td>\n",
       "      <td>0.000000</td>\n",
       "      <td>0.000000</td>\n",
       "      <td>0.000000</td>\n",
       "      <td>-3.670423</td>\n",
       "      <td>0.000000e+00</td>\n",
       "      <td>0.000000e+00</td>\n",
       "    </tr>\n",
       "    <tr>\n",
       "      <th>25%</th>\n",
       "      <td>7.685088e+05</td>\n",
       "      <td>7.853195e+04</td>\n",
       "      <td>0.000000e+00</td>\n",
       "      <td>0.000000e+00</td>\n",
       "      <td>0.000000e+00</td>\n",
       "      <td>1.000000e+00</td>\n",
       "      <td>0.000000e+00</td>\n",
       "      <td>0.000000e+00</td>\n",
       "      <td>0.000000</td>\n",
       "      <td>0.000000</td>\n",
       "      <td>...</td>\n",
       "      <td>7192.000000</td>\n",
       "      <td>13664.601000</td>\n",
       "      <td>6.000000</td>\n",
       "      <td>12.000000</td>\n",
       "      <td>6.000000</td>\n",
       "      <td>3.000000</td>\n",
       "      <td>3156.400100</td>\n",
       "      <td>-0.227985</td>\n",
       "      <td>0.000000e+00</td>\n",
       "      <td>0.000000e+00</td>\n",
       "    </tr>\n",
       "    <tr>\n",
       "      <th>50%</th>\n",
       "      <td>1.361878e+06</td>\n",
       "      <td>3.072824e+05</td>\n",
       "      <td>1.000000e+00</td>\n",
       "      <td>2.000000e+00</td>\n",
       "      <td>0.000000e+00</td>\n",
       "      <td>3.000000e+00</td>\n",
       "      <td>1.000000e+00</td>\n",
       "      <td>2.000000e+00</td>\n",
       "      <td>0.000000</td>\n",
       "      <td>2.000000</td>\n",
       "      <td>...</td>\n",
       "      <td>7553.000000</td>\n",
       "      <td>15765.200000</td>\n",
       "      <td>6.000000</td>\n",
       "      <td>14.000000</td>\n",
       "      <td>6.000000</td>\n",
       "      <td>6.000000</td>\n",
       "      <td>8391.900000</td>\n",
       "      <td>0.371834</td>\n",
       "      <td>2.000000e+00</td>\n",
       "      <td>2.000000e+00</td>\n",
       "    </tr>\n",
       "    <tr>\n",
       "      <th>75%</th>\n",
       "      <td>1.737010e+06</td>\n",
       "      <td>8.021141e+05</td>\n",
       "      <td>2.000000e+00</td>\n",
       "      <td>3.000000e+00</td>\n",
       "      <td>1.000000e+00</td>\n",
       "      <td>6.500000e+00</td>\n",
       "      <td>2.000000e+00</td>\n",
       "      <td>4.000000e+00</td>\n",
       "      <td>0.000000</td>\n",
       "      <td>6.000000</td>\n",
       "      <td>...</td>\n",
       "      <td>13464.400000</td>\n",
       "      <td>21840.000000</td>\n",
       "      <td>6.000000</td>\n",
       "      <td>14.000000</td>\n",
       "      <td>6.000000</td>\n",
       "      <td>7.000000</td>\n",
       "      <td>16992.000000</td>\n",
       "      <td>0.971653</td>\n",
       "      <td>4.000000e+00</td>\n",
       "      <td>4.000000e+00</td>\n",
       "    </tr>\n",
       "    <tr>\n",
       "      <th>max</th>\n",
       "      <td>2.703454e+06</td>\n",
       "      <td>3.129676e+07</td>\n",
       "      <td>1.090000e+02</td>\n",
       "      <td>1.100000e+02</td>\n",
       "      <td>2.200000e+01</td>\n",
       "      <td>1.150000e+02</td>\n",
       "      <td>4.100000e+01</td>\n",
       "      <td>7.600000e+01</td>\n",
       "      <td>1.000000</td>\n",
       "      <td>57.000000</td>\n",
       "      <td>...</td>\n",
       "      <td>205848.610000</td>\n",
       "      <td>99085.400000</td>\n",
       "      <td>15.000000</td>\n",
       "      <td>16.000000</td>\n",
       "      <td>66.000000</td>\n",
       "      <td>121.000000</td>\n",
       "      <td>476843.400000</td>\n",
       "      <td>2.119132</td>\n",
       "      <td>1.090000e+02</td>\n",
       "      <td>6.200000e+01</td>\n",
       "    </tr>\n",
       "  </tbody>\n",
       "</table>\n",
       "<p>8 rows × 37 columns</p>\n",
       "</div>"
      ]
     },
     "execution_count": 33,
     "metadata": {},
     "output_type": "execute_result"
    }
   ],
   "execution_count": 33
  },
  {
   "cell_type": "code",
   "metadata": {
    "ExecuteTime": {
     "end_time": "2024-05-30T03:15:32.958669Z",
     "start_time": "2024-05-30T03:15:31.350597Z"
    }
   },
   "source": [
    "train_person_1.isnull().sum()"
   ],
   "outputs": [
    {
     "data": {
      "text/plain": [
       "case_id                            0\n",
       "birth_259D                   1447332\n",
       "birthdate_87D                2949075\n",
       "childnum_185L                2964084\n",
       "contaddr_district_15M              0\n",
       "contaddr_matchlist_1032L     1447773\n",
       "contaddr_smempladdr_334L     1447773\n",
       "contaddr_zipcode_807M              0\n",
       "education_927M                     0\n",
       "empl_employedfrom_271D       2407290\n",
       "empl_employedtotal_800L      2445676\n",
       "empl_industry_691L           2451755\n",
       "empladdr_district_926M             0\n",
       "empladdr_zipcode_114M              0\n",
       "familystate_447L             2245378\n",
       "gender_992L                  2949075\n",
       "housetype_905L               2873173\n",
       "housingtype_772L             2964176\n",
       "incometype_1044T             1447332\n",
       "isreference_387L             2949075\n",
       "language1_981M                     0\n",
       "mainoccupationinc_384A       1447332\n",
       "maritalst_703L               2962646\n",
       "num_group1                         0\n",
       "personindex_1023L             642283\n",
       "persontype_1072L                6117\n",
       "persontype_792L               642283\n",
       "registaddr_district_1083M          0\n",
       "registaddr_zipcode_184M            0\n",
       "relationshiptoclient_415T    2168942\n",
       "relationshiptoclient_642T    2168049\n",
       "remitter_829L                2168942\n",
       "role_1084L                      6117\n",
       "role_993L                    2949075\n",
       "safeguarantyflag_411L        1447334\n",
       "sex_738L                     1447332\n",
       "type_25L                        6117\n",
       "dtype: int64"
      ]
     },
     "execution_count": 34,
     "metadata": {},
     "output_type": "execute_result"
    }
   ],
   "execution_count": 34
  },
  {
   "cell_type": "code",
   "metadata": {
    "ExecuteTime": {
     "end_time": "2024-05-30T03:15:33.452694Z",
     "start_time": "2024-05-30T03:15:32.959343Z"
    }
   },
   "source": [
    "train_person_1.describe()"
   ],
   "outputs": [
    {
     "data": {
      "text/plain": [
       "            case_id  childnum_185L  mainoccupationinc_384A    num_group1  \\\n",
       "count  2.973991e+06    9907.000000            1.526659e+06  2.973991e+06   \n",
       "mean   1.055196e+06       0.616029            5.770748e+04  7.965317e-01   \n",
       "std    7.245714e+05       0.966080            3.334830e+04  9.777888e-01   \n",
       "min    0.000000e+00       0.000000            0.000000e+00  0.000000e+00   \n",
       "25%    6.373535e+05       0.000000            3.600000e+04  0.000000e+00   \n",
       "50%    8.908170e+05       0.000000            5.000000e+04  0.000000e+00   \n",
       "75%    1.568334e+06       1.000000            7.000000e+04  1.000000e+00   \n",
       "max    2.703454e+06      11.000000            2.000000e+05  9.000000e+00   \n",
       "\n",
       "       personindex_1023L  persontype_1072L  persontype_792L  \n",
       "count       2.331708e+06      2.967874e+06     2.331708e+06  \n",
       "mean        4.383568e-01      2.034862e+00     2.315691e+00  \n",
       "std         6.596618e-01      1.707171e+00     1.826378e+00  \n",
       "min         0.000000e+00      1.000000e+00     1.000000e+00  \n",
       "25%         0.000000e+00      1.000000e+00     1.000000e+00  \n",
       "50%         0.000000e+00      1.000000e+00     1.000000e+00  \n",
       "75%         1.000000e+00      4.000000e+00     5.000000e+00  \n",
       "max         6.000000e+00      5.000000e+00     5.000000e+00  "
      ],
      "text/html": [
       "<div>\n",
       "<style scoped>\n",
       "    .dataframe tbody tr th:only-of-type {\n",
       "        vertical-align: middle;\n",
       "    }\n",
       "\n",
       "    .dataframe tbody tr th {\n",
       "        vertical-align: top;\n",
       "    }\n",
       "\n",
       "    .dataframe thead th {\n",
       "        text-align: right;\n",
       "    }\n",
       "</style>\n",
       "<table border=\"1\" class=\"dataframe\">\n",
       "  <thead>\n",
       "    <tr style=\"text-align: right;\">\n",
       "      <th></th>\n",
       "      <th>case_id</th>\n",
       "      <th>childnum_185L</th>\n",
       "      <th>mainoccupationinc_384A</th>\n",
       "      <th>num_group1</th>\n",
       "      <th>personindex_1023L</th>\n",
       "      <th>persontype_1072L</th>\n",
       "      <th>persontype_792L</th>\n",
       "    </tr>\n",
       "  </thead>\n",
       "  <tbody>\n",
       "    <tr>\n",
       "      <th>count</th>\n",
       "      <td>2.973991e+06</td>\n",
       "      <td>9907.000000</td>\n",
       "      <td>1.526659e+06</td>\n",
       "      <td>2.973991e+06</td>\n",
       "      <td>2.331708e+06</td>\n",
       "      <td>2.967874e+06</td>\n",
       "      <td>2.331708e+06</td>\n",
       "    </tr>\n",
       "    <tr>\n",
       "      <th>mean</th>\n",
       "      <td>1.055196e+06</td>\n",
       "      <td>0.616029</td>\n",
       "      <td>5.770748e+04</td>\n",
       "      <td>7.965317e-01</td>\n",
       "      <td>4.383568e-01</td>\n",
       "      <td>2.034862e+00</td>\n",
       "      <td>2.315691e+00</td>\n",
       "    </tr>\n",
       "    <tr>\n",
       "      <th>std</th>\n",
       "      <td>7.245714e+05</td>\n",
       "      <td>0.966080</td>\n",
       "      <td>3.334830e+04</td>\n",
       "      <td>9.777888e-01</td>\n",
       "      <td>6.596618e-01</td>\n",
       "      <td>1.707171e+00</td>\n",
       "      <td>1.826378e+00</td>\n",
       "    </tr>\n",
       "    <tr>\n",
       "      <th>min</th>\n",
       "      <td>0.000000e+00</td>\n",
       "      <td>0.000000</td>\n",
       "      <td>0.000000e+00</td>\n",
       "      <td>0.000000e+00</td>\n",
       "      <td>0.000000e+00</td>\n",
       "      <td>1.000000e+00</td>\n",
       "      <td>1.000000e+00</td>\n",
       "    </tr>\n",
       "    <tr>\n",
       "      <th>25%</th>\n",
       "      <td>6.373535e+05</td>\n",
       "      <td>0.000000</td>\n",
       "      <td>3.600000e+04</td>\n",
       "      <td>0.000000e+00</td>\n",
       "      <td>0.000000e+00</td>\n",
       "      <td>1.000000e+00</td>\n",
       "      <td>1.000000e+00</td>\n",
       "    </tr>\n",
       "    <tr>\n",
       "      <th>50%</th>\n",
       "      <td>8.908170e+05</td>\n",
       "      <td>0.000000</td>\n",
       "      <td>5.000000e+04</td>\n",
       "      <td>0.000000e+00</td>\n",
       "      <td>0.000000e+00</td>\n",
       "      <td>1.000000e+00</td>\n",
       "      <td>1.000000e+00</td>\n",
       "    </tr>\n",
       "    <tr>\n",
       "      <th>75%</th>\n",
       "      <td>1.568334e+06</td>\n",
       "      <td>1.000000</td>\n",
       "      <td>7.000000e+04</td>\n",
       "      <td>1.000000e+00</td>\n",
       "      <td>1.000000e+00</td>\n",
       "      <td>4.000000e+00</td>\n",
       "      <td>5.000000e+00</td>\n",
       "    </tr>\n",
       "    <tr>\n",
       "      <th>max</th>\n",
       "      <td>2.703454e+06</td>\n",
       "      <td>11.000000</td>\n",
       "      <td>2.000000e+05</td>\n",
       "      <td>9.000000e+00</td>\n",
       "      <td>6.000000e+00</td>\n",
       "      <td>5.000000e+00</td>\n",
       "      <td>5.000000e+00</td>\n",
       "    </tr>\n",
       "  </tbody>\n",
       "</table>\n",
       "</div>"
      ]
     },
     "execution_count": 35,
     "metadata": {},
     "output_type": "execute_result"
    }
   ],
   "execution_count": 35
  },
  {
   "cell_type": "code",
   "metadata": {
    "ExecuteTime": {
     "end_time": "2024-05-30T03:15:33.456821Z",
     "start_time": "2024-05-30T03:15:33.454814Z"
    }
   },
   "source": [
    "print(train_person_1.shape)\n",
    "print(train_basetable.shape)\n",
    "print(train_static.shape)\n",
    "print(train_static_cb.shape)"
   ],
   "outputs": [
    {
     "name": "stdout",
     "output_type": "stream",
     "text": [
      "(2973991, 37)\n",
      "(1526659, 5)\n",
      "(1526659, 168)\n",
      "(1500476, 53)\n"
     ]
    }
   ],
   "execution_count": 36
  },
  {
   "cell_type": "code",
   "metadata": {
    "ExecuteTime": {
     "end_time": "2024-05-30T03:15:33.479304Z",
     "start_time": "2024-05-30T03:15:33.457265Z"
    }
   },
   "source": [
    "test_basetable = pd.read_csv(dataPath + \"csv_files/test/test_base.csv\")\n",
    "test_static = pd.concat(\n",
    "    [\n",
    "        pd.read_csv(dataPath + \"csv_files/test/test_static_0_0.csv\").pipe(set_table_dtypes),\n",
    "        pd.read_csv(dataPath + \"csv_files/test/test_static_0_1.csv\").pipe(set_table_dtypes),\n",
    "        pd.read_csv(dataPath + \"csv_files/test/test_static_0_2.csv\").pipe(set_table_dtypes),\n",
    "    ],\n",
    "    axis=0\n",
    ")\n",
    "test_static_cb = pd.read_csv(dataPath + \"csv_files/test/test_static_cb_0.csv\").pipe(set_table_dtypes)\n",
    "test_person_1 = pd.read_csv(dataPath + \"csv_files/test/test_person_1.csv\").pipe(set_table_dtypes)\n",
    "test_credit_bureau_b_2 = pd.read_csv(dataPath + \"csv_files/test/test_credit_bureau_b_2.csv\").pipe(set_table_dtypes)\n"
   ],
   "outputs": [],
   "execution_count": 37
  },
  {
   "cell_type": "markdown",
   "metadata": {},
   "source": [
    "## Feature engineering"
   ]
  },
  {
   "cell_type": "code",
   "metadata": {
    "ExecuteTime": {
     "end_time": "2024-05-30T03:16:15.148720Z",
     "start_time": "2024-05-30T03:15:33.480163Z"
    }
   },
   "source": [
    "train_person_1_feats_1 = train_person_1.groupby(\"case_id\").agg(\n",
    "    mainoccupationinc_384A_max=pd.NamedAgg(column=\"mainoccupationinc_384A\", aggfunc=\"max\"),\n",
    "    mainoccupationinc_384A_any_selfemployed=pd.NamedAgg(column=\"incometype_1044T\", aggfunc=lambda x: (x == \"SELFEMPLOYED\").max())\n",
    ").reset_index()\n",
    "\n",
    "train_person_1_feats_2 = train_person_1.loc[train_person_1[\"num_group1\"] == 0, [\"case_id\", \"housetype_905L\"]]\n",
    "train_person_1_feats_2 = train_person_1_feats_2.rename(columns={\"housetype_905L\": \"person_housetype\"})\n",
    "\n",
    "train_credit_bureau_b_2_feats = train_credit_bureau_b_2.groupby(\"case_id\").agg(\n",
    "    pmts_pmtsoverdue_635A_max=pd.NamedAgg(column=\"pmts_pmtsoverdue_635A\", aggfunc=\"max\"),\n",
    "    pmts_dpdvalue_108P_over31=pd.NamedAgg(column=\"pmts_dpdvalue_108P\", aggfunc=lambda x: (x > 31).max())\n",
    ").reset_index()\n",
    "\n",
    "selected_static_cols = [col for col in train_static.columns if col[-1] in (\"A\", \"M\")]\n",
    "print(selected_static_cols)\n",
    "\n",
    "selected_static_cb_cols = [col for col in train_static_cb.columns if col[-1] in (\"A\", \"M\")]\n",
    "print(selected_static_cb_cols)\n",
    "\n",
    "# Join all tables together\n",
    "data = train_basetable.merge(\n",
    "    train_static[[\"case_id\"] + selected_static_cols], how=\"left\", on=\"case_id\"\n",
    ").merge(\n",
    "    train_static_cb[[\"case_id\"] + selected_static_cb_cols], how=\"left\", on=\"case_id\"\n",
    ").merge(\n",
    "    train_person_1_feats_1, how=\"left\", on=\"case_id\"\n",
    ").merge(\n",
    "    train_person_1_feats_2, how=\"left\", on=\"case_id\"\n",
    ").merge(\n",
    "    train_credit_bureau_b_2_feats, how=\"left\", on=\"case_id\"\n",
    ")"
   ],
   "outputs": [
    {
     "name": "stdout",
     "output_type": "stream",
     "text": [
      "['amtinstpaidbefduel24m_4187115A', 'annuity_780A', 'annuitynextmonth_57A', 'avginstallast24m_3658937A', 'avglnamtstart24m_4525187A', 'avgoutstandbalancel6m_4187114A', 'avgpmtlast12m_4525200A', 'credamount_770A', 'currdebt_22A', 'currdebtcredtyperange_828A', 'disbursedcredamount_1113A', 'downpmt_116A', 'inittransactionamount_650A', 'lastapprcommoditycat_1041M', 'lastapprcommoditytypec_5251766M', 'lastapprcredamount_781A', 'lastcancelreason_561M', 'lastotherinc_902A', 'lastotherlnsexpense_631A', 'lastrejectcommoditycat_161M', 'lastrejectcommodtypec_5251769M', 'lastrejectcredamount_222A', 'lastrejectreason_759M', 'lastrejectreasonclient_4145040M', 'maininc_215A', 'maxannuity_159A', 'maxannuity_4075009A', 'maxdebt4_972A', 'maxinstallast24m_3658928A', 'maxlnamtstart6m_4525199A', 'maxoutstandbalancel12m_4187113A', 'maxpmtlast3m_4525190A', 'previouscontdistrict_112M', 'price_1097A', 'sumoutstandtotal_3546847A', 'sumoutstandtotalest_4493215A', 'totaldebt_9A', 'totalsettled_863A', 'totinstallast1m_4525188A']\n",
      "['description_5085714M', 'education_1103M', 'education_88M', 'maritalst_385M', 'maritalst_893M', 'pmtaverage_3A', 'pmtaverage_4527227A', 'pmtaverage_4955615A', 'pmtssum_45A']\n"
     ]
    }
   ],
   "execution_count": 38
  },
  {
   "cell_type": "code",
   "metadata": {
    "ExecuteTime": {
     "end_time": "2024-05-30T03:16:15.162879Z",
     "start_time": "2024-05-30T03:16:15.149928Z"
    }
   },
   "source": [
    "test_person_1_feats_1 = test_person_1.groupby(\"case_id\").agg(\n",
    "    mainoccupationinc_384A_max=pd.NamedAgg(column=\"mainoccupationinc_384A\", aggfunc=\"max\"),\n",
    "    mainoccupationinc_384A_any_selfemployed=pd.NamedAgg(column=\"incometype_1044T\", aggfunc=lambda x: (x == \"SELFEMPLOYED\").max())\n",
    ").reset_index()\n",
    "\n",
    "test_person_1_feats_2 = test_person_1.loc[test_person_1[\"num_group1\"] == 0, [\"case_id\", \"housetype_905L\"]]\n",
    "test_person_1_feats_2 = test_person_1_feats_2.rename(columns={\"housetype_905L\": \"person_housetype\"})\n",
    "\n",
    "test_credit_bureau_b_2_feats = test_credit_bureau_b_2.groupby(\"case_id\").agg(\n",
    "    pmts_pmtsoverdue_635A_max=pd.NamedAgg(column=\"pmts_pmtsoverdue_635A\", aggfunc=\"max\"),\n",
    "    pmts_dpdvalue_108P_over31=pd.NamedAgg(column=\"pmts_dpdvalue_108P\", aggfunc=lambda x: (x > 31).max())\n",
    ").reset_index()\n",
    "\n",
    "data_submission = test_basetable.merge(\n",
    "    test_static[[\"case_id\"] + selected_static_cols], how=\"left\", on=\"case_id\"\n",
    ").merge(\n",
    "    test_static_cb[[\"case_id\"] + selected_static_cb_cols], how=\"left\", on=\"case_id\"\n",
    ").merge(\n",
    "    test_person_1_feats_1, how=\"left\", on=\"case_id\"\n",
    ").merge(\n",
    "    test_person_1_feats_2, how=\"left\", on=\"case_id\"\n",
    ").merge(\n",
    "    test_credit_bureau_b_2_feats, how=\"left\", on=\"case_id\"\n",
    ")"
   ],
   "outputs": [],
   "execution_count": 39
  },
  {
   "cell_type": "code",
   "metadata": {
    "ExecuteTime": {
     "end_time": "2024-05-30T03:16:16.628888Z",
     "start_time": "2024-05-30T03:16:15.163481Z"
    }
   },
   "source": [
    "case_ids = data[\"case_id\"].sample(frac=1, random_state=1)\n",
    "case_ids_train, case_ids_test = train_test_split(case_ids, train_size=0.6, random_state=1)\n",
    "case_ids_valid, case_ids_test = train_test_split(case_ids_test, train_size=0.5, random_state=1)\n",
    "\n",
    "cols_pred = [col for col in data.columns if col[-1].isupper() and col[:-1].islower()]\n",
    "print(cols_pred)\n",
    "\n",
    "# Split data into training, validation, and test sets\n",
    "train_data = data[data[\"case_id\"].isin(case_ids_train)]\n",
    "valid_data = data[data[\"case_id\"].isin(case_ids_valid)]\n",
    "test_data = data[data[\"case_id\"].isin(case_ids_test)]\n",
    "\n",
    "x_train, y_train = train_data[cols_pred], train_data[\"target\"]\n",
    "x_valid, y_valid = valid_data[cols_pred], valid_data[\"target\"]\n",
    "x_test, y_test = test_data[cols_pred], test_data[\"target\"]\n",
    "\n",
    "X_train = convert_strings(x_train)\n",
    "X_valid = convert_strings(x_valid)\n",
    "X_test = convert_strings(x_test)    "
   ],
   "outputs": [
    {
     "name": "stdout",
     "output_type": "stream",
     "text": [
      "['amtinstpaidbefduel24m_4187115A', 'annuity_780A', 'annuitynextmonth_57A', 'avginstallast24m_3658937A', 'avglnamtstart24m_4525187A', 'avgoutstandbalancel6m_4187114A', 'avgpmtlast12m_4525200A', 'credamount_770A', 'currdebt_22A', 'currdebtcredtyperange_828A', 'disbursedcredamount_1113A', 'downpmt_116A', 'inittransactionamount_650A', 'lastapprcommoditycat_1041M', 'lastapprcommoditytypec_5251766M', 'lastapprcredamount_781A', 'lastcancelreason_561M', 'lastotherinc_902A', 'lastotherlnsexpense_631A', 'lastrejectcommoditycat_161M', 'lastrejectcommodtypec_5251769M', 'lastrejectcredamount_222A', 'lastrejectreason_759M', 'lastrejectreasonclient_4145040M', 'maininc_215A', 'maxannuity_159A', 'maxannuity_4075009A', 'maxdebt4_972A', 'maxinstallast24m_3658928A', 'maxlnamtstart6m_4525199A', 'maxoutstandbalancel12m_4187113A', 'maxpmtlast3m_4525190A', 'previouscontdistrict_112M', 'price_1097A', 'sumoutstandtotal_3546847A', 'sumoutstandtotalest_4493215A', 'totaldebt_9A', 'totalsettled_863A', 'totinstallast1m_4525188A', 'description_5085714M', 'education_1103M', 'education_88M', 'maritalst_385M', 'maritalst_893M', 'pmtaverage_3A', 'pmtaverage_4527227A', 'pmtaverage_4955615A', 'pmtssum_45A']\n"
     ]
    }
   ],
   "execution_count": 40
  },
  {
   "cell_type": "code",
   "metadata": {
    "ExecuteTime": {
     "end_time": "2024-05-30T03:16:16.633133Z",
     "start_time": "2024-05-30T03:16:16.629552Z"
    }
   },
   "source": [
    "print(f\"Train: {X_train.shape} {y_train.shape}\")\n",
    "print(f\"Valid: {X_valid.shape} {y_valid.shape}\")\n",
    "print(f\"Test: {X_test.shape} {y_test.shape}\")"
   ],
   "outputs": [
    {
     "name": "stdout",
     "output_type": "stream",
     "text": [
      "Train: (915995, 48) (915995,)\n",
      "Valid: (305332, 48) (305332,)\n",
      "Test: (305332, 48) (305332,)\n"
     ]
    }
   ],
   "execution_count": 41
  },
  {
   "cell_type": "markdown",
   "metadata": {},
   "source": [
    "## Training LightGBM"
   ]
  },
  {
   "cell_type": "code",
   "metadata": {
    "ExecuteTime": {
     "end_time": "2024-05-30T03:16:35.379613Z",
     "start_time": "2024-05-30T03:16:16.634010Z"
    }
   },
   "source": [
    "lgb_train = lgb.Dataset(X_train, label=y_train)\n",
    "lgb_valid = lgb.Dataset(X_valid, label=y_valid)\n",
    "\n",
    "params = {\n",
    "    \"boosting_type\": \"gbdt\",\n",
    "    \"objective\": \"binary\",\n",
    "    \"metric\": \"auc\",\n",
    "    \"max_depth\": 3,\n",
    "    \"num_leaves\": 31,\n",
    "    \"learning_rate\": 0.05,\n",
    "    \"feature_fraction\": 0.9,\n",
    "    \"bagging_fraction\": 0.8,\n",
    "    \"bagging_freq\": 5,\n",
    "    \"num_boost_round\": 1000,\n",
    "    \"verbose\": -1,\n",
    "}\n",
    "evals={}\n",
    "gbm = lgb.train(\n",
    "    params,\n",
    "    lgb_train,\n",
    "    valid_sets=lgb_valid,\n",
    "    callbacks=[lgb.log_evaluation(50), lgb.early_stopping(10), lgb.record_evaluation(evals)]\n",
    ")"
   ],
   "outputs": [
    {
     "name": "stderr",
     "output_type": "stream",
     "text": [
      "/opt/homebrew/lib/python3.11/site-packages/lightgbm/engine.py:172: UserWarning: Found `num_boost_round` in params. Will use it instead of argument\n",
      "  _log_warning(f\"Found `{alias}` in params. Will use it instead of argument\")\n"
     ]
    },
    {
     "name": "stdout",
     "output_type": "stream",
     "text": [
      "Training until validation scores don't improve for 10 rounds\n",
      "[50]\tvalid_0's auc: 0.699919\n",
      "[100]\tvalid_0's auc: 0.717512\n",
      "[150]\tvalid_0's auc: 0.7247\n",
      "[200]\tvalid_0's auc: 0.728744\n",
      "[250]\tvalid_0's auc: 0.731757\n",
      "[300]\tvalid_0's auc: 0.734638\n",
      "[350]\tvalid_0's auc: 0.736952\n",
      "[400]\tvalid_0's auc: 0.738423\n",
      "[450]\tvalid_0's auc: 0.739968\n",
      "[500]\tvalid_0's auc: 0.74133\n",
      "[550]\tvalid_0's auc: 0.742478\n",
      "[600]\tvalid_0's auc: 0.743322\n",
      "[650]\tvalid_0's auc: 0.744115\n",
      "[700]\tvalid_0's auc: 0.744701\n",
      "[750]\tvalid_0's auc: 0.745422\n",
      "Early stopping, best iteration is:\n",
      "[765]\tvalid_0's auc: 0.745759\n"
     ]
    }
   ],
   "execution_count": 42
  },
  {
   "cell_type": "code",
   "metadata": {
    "ExecuteTime": {
     "end_time": "2024-05-30T03:16:40.580985Z",
     "start_time": "2024-05-30T03:16:35.380310Z"
    }
   },
   "source": [
    "for base, X in [(train_data, X_train), (valid_data, X_valid), (test_data, X_test)]:\n",
    "    y_pred = gbm.predict(X, num_iteration=gbm.best_iteration)\n",
    "    base.loc[:, \"score\"] = y_pred"
   ],
   "outputs": [
    {
     "name": "stderr",
     "output_type": "stream",
     "text": [
      "/var/folders/nz/ntbk00f557jfbvm0fp_h8yyh0000gn/T/ipykernel_48362/3693778846.py:3: SettingWithCopyWarning: \n",
      "A value is trying to be set on a copy of a slice from a DataFrame.\n",
      "Try using .loc[row_indexer,col_indexer] = value instead\n",
      "\n",
      "See the caveats in the documentation: https://pandas.pydata.org/pandas-docs/stable/user_guide/indexing.html#returning-a-view-versus-a-copy\n",
      "  base.loc[:, \"score\"] = y_pred\n",
      "/var/folders/nz/ntbk00f557jfbvm0fp_h8yyh0000gn/T/ipykernel_48362/3693778846.py:3: SettingWithCopyWarning: \n",
      "A value is trying to be set on a copy of a slice from a DataFrame.\n",
      "Try using .loc[row_indexer,col_indexer] = value instead\n",
      "\n",
      "See the caveats in the documentation: https://pandas.pydata.org/pandas-docs/stable/user_guide/indexing.html#returning-a-view-versus-a-copy\n",
      "  base.loc[:, \"score\"] = y_pred\n",
      "/var/folders/nz/ntbk00f557jfbvm0fp_h8yyh0000gn/T/ipykernel_48362/3693778846.py:3: SettingWithCopyWarning: \n",
      "A value is trying to be set on a copy of a slice from a DataFrame.\n",
      "Try using .loc[row_indexer,col_indexer] = value instead\n",
      "\n",
      "See the caveats in the documentation: https://pandas.pydata.org/pandas-docs/stable/user_guide/indexing.html#returning-a-view-versus-a-copy\n",
      "  base.loc[:, \"score\"] = y_pred\n"
     ]
    }
   ],
   "execution_count": 43
  },
  {
   "cell_type": "markdown",
   "metadata": {},
   "source": [
    "## Evaluation"
   ]
  },
  {
   "cell_type": "code",
   "metadata": {
    "ExecuteTime": {
     "end_time": "2024-05-30T03:16:40.670401Z",
     "start_time": "2024-05-30T03:16:40.581706Z"
    }
   },
   "source": [
    "lgb.plot_metric(evals)\n",
    "print(\"El mejor valor de AUC fue \", gbm.best_score['valid_0']['auc'], \"para el arbol\", gbm.best_iteration)"
   ],
   "outputs": [
    {
     "name": "stdout",
     "output_type": "stream",
     "text": [
      "El mejor valor de AUC fue  0.7457594178711751 para el arbol 765\n"
     ]
    },
    {
     "data": {
      "text/plain": [
       "<Figure size 640x480 with 1 Axes>"
      ],
      "image/png": "[encoded data removed]"
     },
     "metadata": {},
     "output_type": "display_data"
    }
   ],
   "execution_count": 44
  },
  {
   "cell_type": "code",
   "metadata": {
    "ExecuteTime": {
     "end_time": "2024-05-30T03:16:41.032290Z",
     "start_time": "2024-05-30T03:16:40.671094Z"
    }
   },
   "source": [
    "print(f'The AUC score on the train set is: {roc_auc_score(train_data[\"target\"], train_data[\"score\"])}')\n",
    "print(f'The AUC score on the valid set is: {roc_auc_score(valid_data[\"target\"], valid_data[\"score\"])}')\n",
    "print(f'The AUC score on the test set is: {roc_auc_score(test_data[\"target\"], test_data[\"score\"])}')"
   ],
   "outputs": [
    {
     "name": "stdout",
     "output_type": "stream",
     "text": [
      "The AUC score on the train set is: 0.7647558361580861\n",
      "The AUC score on the valid set is: 0.7457594178711751\n",
      "The AUC score on the test set is: 0.7541589104304902\n"
     ]
    }
   ],
   "execution_count": 45
  },
  {
   "cell_type": "code",
   "metadata": {
    "ExecuteTime": {
     "end_time": "2024-05-30T03:16:41.430821Z",
     "start_time": "2024-05-30T03:16:41.032877Z"
    }
   },
   "source": [
    "def gini_stability(base, w_fallingrate=88.0, w_resstd=-0.5):\n",
    "    gini_in_time = base.loc[:, [\"WEEK_NUM\", \"target\", \"score\"]]\\\n",
    "        .sort_values(\"WEEK_NUM\")\\\n",
    "        .groupby(\"WEEK_NUM\")[[\"target\", \"score\"]]\\\n",
    "        .apply(lambda x: 2*roc_auc_score(x[\"target\"], x[\"score\"])-1).tolist()\n",
    "\n",
    "    x = np.arange(len(gini_in_time))\n",
    "    y = gini_in_time\n",
    "    a, b = np.polyfit(x, y, 1)\n",
    "    y_hat = a*x + b\n",
    "    residuals = y - y_hat\n",
    "    res_std = np.std(residuals)\n",
    "    avg_gini = np.mean(gini_in_time)\n",
    "    return avg_gini + w_fallingrate * min(0, a) + w_resstd * res_std\n",
    "\n",
    "stability_score_train = gini_stability(train_data)\n",
    "stability_score_valid = gini_stability(valid_data)\n",
    "stability_score_test = gini_stability(test_data)\n",
    "\n",
    "print(f'The stability score on the train set is: {stability_score_train}')\n",
    "print(f'The stability score on the valid set is: {stability_score_valid}')\n",
    "print(f'The stability score on the test set is: {stability_score_test}')"
   ],
   "outputs": [
    {
     "name": "stdout",
     "output_type": "stream",
     "text": [
      "The stability score on the train set is: 0.5041180820280722\n",
      "The stability score on the valid set is: 0.4477715566725867\n",
      "The stability score on the test set is: 0.46531836563301116\n"
     ]
    }
   ],
   "execution_count": 46
  },
  {
   "cell_type": "markdown",
   "metadata": {},
   "source": [
    "## Submission"
   ]
  },
  {
   "cell_type": "code",
   "metadata": {
    "ExecuteTime": {
     "end_time": "2024-05-30T03:16:41.472400Z",
     "start_time": "2024-05-30T03:16:41.431468Z"
    }
   },
   "source": [
    "X_submission = data_submission[cols_pred]\n",
    "X_submission = convert_strings(X_submission)\n",
    "categorical_cols = X_train.select_dtypes(include=['category']).columns\n",
    "\n",
    "for col in categorical_cols:\n",
    "    train_categories = set(X_train[col].cat.categories)\n",
    "    submission_categories = set(X_submission[col].cat.categories)\n",
    "    new_categories = submission_categories - train_categories\n",
    "    X_submission.loc[X_submission[col].isin(new_categories), col] = \"Unknown\"\n",
    "    new_dtype = pd.CategoricalDtype(categories=train_categories, ordered=True)\n",
    "    X_train[col] = X_train[col].astype(new_dtype)\n",
    "    X_submission[col] = X_submission[col].astype(new_dtype)\n",
    "\n",
    "y_submission_pred = gbm.predict(X_submission, num_iteration=gbm.best_iteration)"
   ],
   "outputs": [],
   "execution_count": 47
  },
  {
   "cell_type": "code",
   "metadata": {
    "ExecuteTime": {
     "end_time": "2024-05-30T03:16:41.476484Z",
     "start_time": "2024-05-30T03:16:41.473027Z"
    }
   },
   "source": [
    "submission = pd.DataFrame({\n",
    "    \"case_id\": data_submission[\"case_id\"].to_numpy(),\n",
    "    \"score\": y_submission_pred\n",
    "}).set_index('case_id')\n",
    "submission.to_csv(\"./submission.csv\")"
   ],
   "outputs": [],
   "execution_count": 48
  }
 ],
 "metadata": {
  "kernelspec": {
   "display_name": "Python 3",
   "language": "python",
   "name": "python3"
  },
  "language_info": {
   "codemirror_mode": {
    "name": "ipython",
    "version": 3
   },
   "file_extension": ".py",
   "mimetype": "text/x-python",
   "name": "python",
   "nbconvert_exporter": "python",
   "pygments_lexer": "ipython3",
   "version": "3.12.3"
  }
 },
 "nbformat": 4,
 "nbformat_minor": 2
}
