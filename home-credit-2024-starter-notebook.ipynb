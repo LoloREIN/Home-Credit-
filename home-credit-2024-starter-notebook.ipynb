{
 "metadata": {
  "kernelspec": {
   "language": "python",
   "display_name": "Python 3",
   "name": "python3"
  },
  "language_info": {
   "name": "python",
   "version": "3.10.12",
   "mimetype": "text/x-python",
   "codemirror_mode": {
    "name": "ipython",
    "version": 3
   },
   "pygments_lexer": "ipython3",
   "nbconvert_exporter": "python",
   "file_extension": ".py"
  },
  "kaggle": {
   "accelerator": "none",
   "dataSources": [
    {
     "sourceId": 50160,
     "databundleVersionId": 7921029,
     "sourceType": "competition"
    }
   ],
   "dockerImageVersionId": 30635,
   "isInternetEnabled": false,
   "language": "python",
   "sourceType": "notebook",
   "isGpuEnabled": false
  }
 },
 "nbformat_minor": 4,
 "nbformat": 4,
 "cells": [
  {
   "cell_type": "markdown",
   "source": "# Example Notebook\n\nWelcome to the example notebook for the Home Credit Kaggle competition. The goal of this competition is to determine how likely a customer is going to default on an issued loan. The main difference between the [first](https://www.kaggle.com/c/home-credit-default-risk) and this competition is that now your submission will be scored with a custom metric that will take into account how well the model performs in future. A decline in performance will be penalized. The goal is to create a model that is stable and performs well in the future.\n\nIn this notebook you will see how to:\n* Load the data\n* Join tables with Polars - a DataFrame library implemented in Rust language, designed to be blazingy fast and memory efficient.  \n* Create simple aggregation features\n* Train a LightGBM model\n* Create a submission table\n\n## Load the data",
   "metadata": {
    "_uuid": "8f2839f25d086af736a60e9eeb907d3b93b6e0e5",
    "_cell_guid": "b1076dfc-b9ad-4769-8c92-a6c4dae69d19"
   }
  },
  {
   "cell_type": "code",
   "source": [
    "import polars as pl\n",
    "import numpy as np\n",
    "import pandas as pd\n",
    "import lightgbm as lgb\n",
    "from sklearn.model_selection import train_test_split\n",
    "from sklearn.metrics import roc_auc_score \n",
    "\n",
    "dataPath = \"home-credit-credit-risk-model-stability/\""
   ],
   "metadata": {
    "execution": {
     "iopub.status.busy": "2024-02-07T21:24:50.023647Z",
     "iopub.execute_input": "2024-02-07T21:24:50.024915Z",
     "iopub.status.idle": "2024-02-07T21:24:54.729412Z",
     "shell.execute_reply.started": "2024-02-07T21:24:50.024838Z",
     "shell.execute_reply": "2024-02-07T21:24:54.728256Z"
    },
    "trusted": true,
    "ExecuteTime": {
     "end_time": "2024-05-25T17:40:50.922617Z",
     "start_time": "2024-05-25T17:40:50.920173Z"
    }
   },
   "outputs": [],
   "execution_count": 13
  },
  {
   "cell_type": "code",
   "source": "def set_table_dtypes(df: pl.DataFrame) -> pl.DataFrame:\n    # implement here all desired dtypes for tables\n    # the following is just an example\n    for col in df.columns:\n        # last letter of column name will help you determine the type\n        if col[-1] in (\"P\", \"A\"):\n            df = df.with_columns(pl.col(col).cast(pl.Float64).alias(col))\n\n    return df\n\ndef convert_strings(df: pd.DataFrame) -> pd.DataFrame:\n    for col in df.columns:  \n        if df[col].dtype.name in ['object', 'string']:\n            df[col] = df[col].astype(\"string\").astype('category')\n            current_categories = df[col].cat.categories\n            new_categories = current_categories.to_list() + [\"Unknown\"]\n            new_dtype = pd.CategoricalDtype(categories=new_categories, ordered=True)\n            df[col] = df[col].astype(new_dtype)\n    return df",
   "metadata": {
    "execution": {
     "iopub.status.busy": "2024-02-07T21:24:54.732337Z",
     "iopub.execute_input": "2024-02-07T21:24:54.733356Z",
     "iopub.status.idle": "2024-02-07T21:24:54.746195Z",
     "shell.execute_reply.started": "2024-02-07T21:24:54.733288Z",
     "shell.execute_reply": "2024-02-07T21:24:54.744741Z"
    },
    "trusted": true,
    "ExecuteTime": {
     "end_time": "2024-05-25T17:40:50.938469Z",
     "start_time": "2024-05-25T17:40:50.934900Z"
    }
   },
   "outputs": [],
   "execution_count": 14
  },
  {
   "cell_type": "code",
   "source": "train_basetable = pl.read_csv(dataPath + \"csv_files/train/train_base.csv\")\ntrain_static = pl.concat(\n    [\n        pl.read_csv(dataPath + \"csv_files/train/train_static_0_0.csv\").pipe(set_table_dtypes),\n        pl.read_csv(dataPath + \"csv_files/train/train_static_0_1.csv\").pipe(set_table_dtypes),\n    ],\n    how=\"vertical_relaxed\",\n)\ntrain_static_cb = pl.read_csv(dataPath + \"csv_files/train/train_static_cb_0.csv\").pipe(set_table_dtypes)\ntrain_person_1 = pl.read_csv(dataPath + \"csv_files/train/train_person_1.csv\").pipe(set_table_dtypes) \ntrain_credit_bureau_b_2 = pl.read_csv(dataPath + \"csv_files/train/train_credit_bureau_b_2.csv\").pipe(set_table_dtypes) ",
   "metadata": {
    "execution": {
     "iopub.status.busy": "2024-02-07T21:24:54.749698Z",
     "iopub.execute_input": "2024-02-07T21:24:54.751423Z",
     "iopub.status.idle": "2024-02-07T21:25:16.159261Z",
     "shell.execute_reply.started": "2024-02-07T21:24:54.751353Z",
     "shell.execute_reply": "2024-02-07T21:25:16.158289Z"
    },
    "trusted": true,
    "ExecuteTime": {
     "end_time": "2024-05-25T17:40:55.831873Z",
     "start_time": "2024-05-25T17:40:50.955380Z"
    }
   },
   "outputs": [],
   "execution_count": 15
  },
  {
   "cell_type": "code",
   "source": "test_basetable = pl.read_csv(dataPath + \"csv_files/test/test_base.csv\")\ntest_static = pl.concat(\n    [\n        pl.read_csv(dataPath + \"csv_files/test/test_static_0_0.csv\").pipe(set_table_dtypes),\n        pl.read_csv(dataPath + \"csv_files/test/test_static_0_1.csv\").pipe(set_table_dtypes),\n        pl.read_csv(dataPath + \"csv_files/test/test_static_0_2.csv\").pipe(set_table_dtypes),\n    ],\n    how=\"vertical_relaxed\",\n)\ntest_static_cb = pl.read_csv(dataPath + \"csv_files/test/test_static_cb_0.csv\").pipe(set_table_dtypes)\ntest_person_1 = pl.read_csv(dataPath + \"csv_files/test/test_person_1.csv\").pipe(set_table_dtypes) \ntest_credit_bureau_b_2 = pl.read_csv(dataPath + \"csv_files/test/test_credit_bureau_b_2.csv\").pipe(set_table_dtypes) ",
   "metadata": {
    "execution": {
     "iopub.status.busy": "2024-02-07T21:25:16.161619Z",
     "iopub.execute_input": "2024-02-07T21:25:16.162856Z",
     "iopub.status.idle": "2024-02-07T21:25:16.23912Z",
     "shell.execute_reply.started": "2024-02-07T21:25:16.162811Z",
     "shell.execute_reply": "2024-02-07T21:25:16.238115Z"
    },
    "trusted": true,
    "ExecuteTime": {
     "end_time": "2024-05-25T17:40:55.844188Z",
     "start_time": "2024-05-25T17:40:55.834457Z"
    }
   },
   "outputs": [],
   "execution_count": 16
  },
  {
   "cell_type": "markdown",
   "source": "## Feature engineering\n\nIn this part, we can see a simple example of joining tables via `case_id`. Here the loading and joining is done with polars library. Polars library is blazingly fast and has much smaller memory footprint than pandas. ",
   "metadata": {}
  },
  {
   "cell_type": "code",
   "source": "# We need to use aggregation functions in tables with depth > 1, so tables that contain num_group1 column or \n# also num_group2 column.\ntrain_person_1_feats_1 = train_person_1.group_by(\"case_id\").agg(\n    pl.col(\"mainoccupationinc_384A\").max().alias(\"mainoccupationinc_384A_max\"),\n    (pl.col(\"incometype_1044T\") == \"SELFEMPLOYED\").max().alias(\"mainoccupationinc_384A_any_selfemployed\")\n)\n\n# Here num_group1=0 has special meaning, it is the person who applied for the loan.\ntrain_person_1_feats_2 = train_person_1.select([\"case_id\", \"num_group1\", \"housetype_905L\"]).filter(\n    pl.col(\"num_group1\") == 0\n).drop(\"num_group1\").rename({\"housetype_905L\": \"person_housetype\"})\n\n# Here we have num_goup1 and num_group2, so we need to aggregate again.\ntrain_credit_bureau_b_2_feats = train_credit_bureau_b_2.group_by(\"case_id\").agg(\n    pl.col(\"pmts_pmtsoverdue_635A\").max().alias(\"pmts_pmtsoverdue_635A_max\"),\n    (pl.col(\"pmts_dpdvalue_108P\") > 31).max().alias(\"pmts_dpdvalue_108P_over31\")\n)\n\n# We will process in this examples only A-type and M-type columns, so we need to select them.\nselected_static_cols = []\nfor col in train_static.columns:\n    if col[-1] in (\"A\", \"M\"):\n        selected_static_cols.append(col)\nprint(selected_static_cols)\n\nselected_static_cb_cols = []\nfor col in train_static_cb.columns:\n    if col[-1] in (\"A\", \"M\"):\n        selected_static_cb_cols.append(col)\nprint(selected_static_cb_cols)\n\n# Join all tables together.\ndata = train_basetable.join(\n    train_static.select([\"case_id\"]+selected_static_cols), how=\"left\", on=\"case_id\"\n).join(\n    train_static_cb.select([\"case_id\"]+selected_static_cb_cols), how=\"left\", on=\"case_id\"\n).join(\n    train_person_1_feats_1, how=\"left\", on=\"case_id\"\n).join(\n    train_person_1_feats_2, how=\"left\", on=\"case_id\"\n).join(\n    train_credit_bureau_b_2_feats, how=\"left\", on=\"case_id\"\n)",
   "metadata": {
    "execution": {
     "iopub.status.busy": "2024-02-07T21:25:16.24057Z",
     "iopub.execute_input": "2024-02-07T21:25:16.24119Z",
     "iopub.status.idle": "2024-02-07T21:25:18.454532Z",
     "shell.execute_reply.started": "2024-02-07T21:25:16.241152Z",
     "shell.execute_reply": "2024-02-07T21:25:18.452798Z"
    },
    "trusted": true,
    "ExecuteTime": {
     "end_time": "2024-05-25T17:40:56.684063Z",
     "start_time": "2024-05-25T17:40:55.844792Z"
    }
   },
   "outputs": [
    {
     "name": "stdout",
     "output_type": "stream",
     "text": [
      "['amtinstpaidbefduel24m_4187115A', 'annuity_780A', 'annuitynextmonth_57A', 'avginstallast24m_3658937A', 'avglnamtstart24m_4525187A', 'avgoutstandbalancel6m_4187114A', 'avgpmtlast12m_4525200A', 'credamount_770A', 'currdebt_22A', 'currdebtcredtyperange_828A', 'disbursedcredamount_1113A', 'downpmt_116A', 'inittransactionamount_650A', 'lastapprcommoditycat_1041M', 'lastapprcommoditytypec_5251766M', 'lastapprcredamount_781A', 'lastcancelreason_561M', 'lastotherinc_902A', 'lastotherlnsexpense_631A', 'lastrejectcommoditycat_161M', 'lastrejectcommodtypec_5251769M', 'lastrejectcredamount_222A', 'lastrejectreason_759M', 'lastrejectreasonclient_4145040M', 'maininc_215A', 'maxannuity_159A', 'maxannuity_4075009A', 'maxdebt4_972A', 'maxinstallast24m_3658928A', 'maxlnamtstart6m_4525199A', 'maxoutstandbalancel12m_4187113A', 'maxpmtlast3m_4525190A', 'previouscontdistrict_112M', 'price_1097A', 'sumoutstandtotal_3546847A', 'sumoutstandtotalest_4493215A', 'totaldebt_9A', 'totalsettled_863A', 'totinstallast1m_4525188A']\n",
      "['description_5085714M', 'education_1103M', 'education_88M', 'maritalst_385M', 'maritalst_893M', 'pmtaverage_3A', 'pmtaverage_4527227A', 'pmtaverage_4955615A', 'pmtssum_45A']\n"
     ]
    }
   ],
   "execution_count": 17
  },
  {
   "cell_type": "code",
   "source": "test_person_1_feats_1 = test_person_1.group_by(\"case_id\").agg(\n    pl.col(\"mainoccupationinc_384A\").max().alias(\"mainoccupationinc_384A_max\"),\n    (pl.col(\"incometype_1044T\") == \"SELFEMPLOYED\").max().alias(\"mainoccupationinc_384A_any_selfemployed\")\n)\n\ntest_person_1_feats_2 = test_person_1.select([\"case_id\", \"num_group1\", \"housetype_905L\"]).filter(\n    pl.col(\"num_group1\") == 0\n).drop(\"num_group1\").rename({\"housetype_905L\": \"person_housetype\"})\n\ntest_credit_bureau_b_2_feats = test_credit_bureau_b_2.group_by(\"case_id\").agg(\n    pl.col(\"pmts_pmtsoverdue_635A\").max().alias(\"pmts_pmtsoverdue_635A_max\"),\n    (pl.col(\"pmts_dpdvalue_108P\") > 31).max().alias(\"pmts_dpdvalue_108P_over31\")\n)\n\ndata_submission = test_basetable.join(\n    test_static.select([\"case_id\"]+selected_static_cols), how=\"left\", on=\"case_id\"\n).join(\n    test_static_cb.select([\"case_id\"]+selected_static_cb_cols), how=\"left\", on=\"case_id\"\n).join(\n    test_person_1_feats_1, how=\"left\", on=\"case_id\"\n).join(\n    test_person_1_feats_2, how=\"left\", on=\"case_id\"\n).join(\n    test_credit_bureau_b_2_feats, how=\"left\", on=\"case_id\"\n)",
   "metadata": {
    "execution": {
     "iopub.status.busy": "2024-02-07T21:25:18.455848Z",
     "iopub.execute_input": "2024-02-07T21:25:18.456308Z",
     "iopub.status.idle": "2024-02-07T21:25:18.474933Z",
     "shell.execute_reply.started": "2024-02-07T21:25:18.456258Z",
     "shell.execute_reply": "2024-02-07T21:25:18.473491Z"
    },
    "trusted": true,
    "ExecuteTime": {
     "end_time": "2024-05-25T17:41:35.138243Z",
     "start_time": "2024-05-25T17:41:35.131200Z"
    }
   },
   "outputs": [],
   "execution_count": 24
  },
  {
   "cell_type": "code",
   "source": [
    "case_ids = data[\"case_id\"].unique().shuffle(seed=1)\n",
    "case_ids_train, case_ids_test = train_test_split(case_ids, train_size=0.6, random_state=1)\n",
    "case_ids_valid, case_ids_test = train_test_split(case_ids_test, train_size=0.5, random_state=1)\n",
    "\n",
    "cols_pred = []\n",
    "for col in data.columns:\n",
    "    if col[-1].isupper() and col[:-1].islower():\n",
    "        cols_pred.append(col)\n",
    "\n",
    "print(cols_pred)\n",
    "\n",
    "def from_polars_to_pandas(case_ids: pl.DataFrame) -> pl.DataFrame:\n",
    "    return (\n",
    "        data.filter(pl.col(\"case_id\").is_in(case_ids))[[\"case_id\", \"WEEK_NUM\", \"target\"]].to_pandas(),\n",
    "        data.filter(pl.col(\"case_id\").is_in(case_ids))[cols_pred].to_pandas(),\n",
    "        data.filter(pl.col(\"case_id\").is_in(case_ids))[\"target\"].to_pandas()\n",
    "    )\n",
    "\n",
    "base_train, X_train, y_train = from_polars_to_pandas(case_ids_train)\n",
    "base_valid, X_valid, y_valid = from_polars_to_pandas(case_ids_valid)\n",
    "base_test, X_test, y_test = from_polars_to_pandas(case_ids_test)\n",
    "\n",
    "for df in [X_train, X_valid, X_test]:\n",
    "    df = convert_strings(df)"
   ],
   "metadata": {
    "execution": {
     "iopub.status.busy": "2024-02-07T21:25:18.47705Z",
     "iopub.execute_input": "2024-02-07T21:25:18.477539Z",
     "iopub.status.idle": "2024-02-07T21:25:28.525841Z",
     "shell.execute_reply.started": "2024-02-07T21:25:18.477494Z",
     "shell.execute_reply": "2024-02-07T21:25:28.524407Z"
    },
    "trusted": true,
    "ExecuteTime": {
     "end_time": "2024-05-25T17:41:38.758892Z",
     "start_time": "2024-05-25T17:41:38.340121Z"
    }
   },
   "outputs": [
    {
     "name": "stdout",
     "output_type": "stream",
     "text": [
      "['exampleA', 'exampleB']\n"
     ]
    },
    {
     "ename": "TypeError",
     "evalue": "Index(...) must be called with a collection of some kind, <Expr ['col(\"case_id\").is_in([Series])'] at 0x480147950> was passed",
     "output_type": "error",
     "traceback": [
      "\u001B[0;31m---------------------------------------------------------------------------\u001B[0m",
      "\u001B[0;31mTypeError\u001B[0m                                 Traceback (most recent call last)",
      "Cell \u001B[0;32mIn[25], line 19\u001B[0m\n\u001B[1;32m     12\u001B[0m \u001B[38;5;28;01mdef\u001B[39;00m \u001B[38;5;21mfrom_polars_to_pandas\u001B[39m(case_ids: pl\u001B[38;5;241m.\u001B[39mDataFrame) \u001B[38;5;241m-\u001B[39m\u001B[38;5;241m>\u001B[39m pl\u001B[38;5;241m.\u001B[39mDataFrame:\n\u001B[1;32m     13\u001B[0m     \u001B[38;5;28;01mreturn\u001B[39;00m (\n\u001B[1;32m     14\u001B[0m         data\u001B[38;5;241m.\u001B[39mfilter(pl\u001B[38;5;241m.\u001B[39mcol(\u001B[38;5;124m\"\u001B[39m\u001B[38;5;124mcase_id\u001B[39m\u001B[38;5;124m\"\u001B[39m)\u001B[38;5;241m.\u001B[39mis_in(case_ids))[[\u001B[38;5;124m\"\u001B[39m\u001B[38;5;124mcase_id\u001B[39m\u001B[38;5;124m\"\u001B[39m, \u001B[38;5;124m\"\u001B[39m\u001B[38;5;124mWEEK_NUM\u001B[39m\u001B[38;5;124m\"\u001B[39m, \u001B[38;5;124m\"\u001B[39m\u001B[38;5;124mtarget\u001B[39m\u001B[38;5;124m\"\u001B[39m]]\u001B[38;5;241m.\u001B[39mto_pandas(),\n\u001B[1;32m     15\u001B[0m         data\u001B[38;5;241m.\u001B[39mfilter(pl\u001B[38;5;241m.\u001B[39mcol(\u001B[38;5;124m\"\u001B[39m\u001B[38;5;124mcase_id\u001B[39m\u001B[38;5;124m\"\u001B[39m)\u001B[38;5;241m.\u001B[39mis_in(case_ids))[cols_pred]\u001B[38;5;241m.\u001B[39mto_pandas(),\n\u001B[1;32m     16\u001B[0m         data\u001B[38;5;241m.\u001B[39mfilter(pl\u001B[38;5;241m.\u001B[39mcol(\u001B[38;5;124m\"\u001B[39m\u001B[38;5;124mcase_id\u001B[39m\u001B[38;5;124m\"\u001B[39m)\u001B[38;5;241m.\u001B[39mis_in(case_ids))[\u001B[38;5;124m\"\u001B[39m\u001B[38;5;124mtarget\u001B[39m\u001B[38;5;124m\"\u001B[39m]\u001B[38;5;241m.\u001B[39mto_pandas()\n\u001B[1;32m     17\u001B[0m     )\n\u001B[0;32m---> 19\u001B[0m base_train, X_train, y_train \u001B[38;5;241m=\u001B[39m \u001B[43mfrom_polars_to_pandas\u001B[49m\u001B[43m(\u001B[49m\u001B[43mcase_ids_train\u001B[49m\u001B[43m)\u001B[49m\n\u001B[1;32m     20\u001B[0m base_valid, X_valid, y_valid \u001B[38;5;241m=\u001B[39m from_polars_to_pandas(case_ids_valid)\n\u001B[1;32m     21\u001B[0m base_test, X_test, y_test \u001B[38;5;241m=\u001B[39m from_polars_to_pandas(case_ids_test)\n",
      "Cell \u001B[0;32mIn[25], line 14\u001B[0m, in \u001B[0;36mfrom_polars_to_pandas\u001B[0;34m(case_ids)\u001B[0m\n\u001B[1;32m     12\u001B[0m \u001B[38;5;28;01mdef\u001B[39;00m \u001B[38;5;21mfrom_polars_to_pandas\u001B[39m(case_ids: pl\u001B[38;5;241m.\u001B[39mDataFrame) \u001B[38;5;241m-\u001B[39m\u001B[38;5;241m>\u001B[39m pl\u001B[38;5;241m.\u001B[39mDataFrame:\n\u001B[1;32m     13\u001B[0m     \u001B[38;5;28;01mreturn\u001B[39;00m (\n\u001B[0;32m---> 14\u001B[0m         \u001B[43mdata\u001B[49m\u001B[38;5;241;43m.\u001B[39;49m\u001B[43mfilter\u001B[49m\u001B[43m(\u001B[49m\u001B[43mpl\u001B[49m\u001B[38;5;241;43m.\u001B[39;49m\u001B[43mcol\u001B[49m\u001B[43m(\u001B[49m\u001B[38;5;124;43m\"\u001B[39;49m\u001B[38;5;124;43mcase_id\u001B[39;49m\u001B[38;5;124;43m\"\u001B[39;49m\u001B[43m)\u001B[49m\u001B[38;5;241;43m.\u001B[39;49m\u001B[43mis_in\u001B[49m\u001B[43m(\u001B[49m\u001B[43mcase_ids\u001B[49m\u001B[43m)\u001B[49m\u001B[43m)\u001B[49m[[\u001B[38;5;124m\"\u001B[39m\u001B[38;5;124mcase_id\u001B[39m\u001B[38;5;124m\"\u001B[39m, \u001B[38;5;124m\"\u001B[39m\u001B[38;5;124mWEEK_NUM\u001B[39m\u001B[38;5;124m\"\u001B[39m, \u001B[38;5;124m\"\u001B[39m\u001B[38;5;124mtarget\u001B[39m\u001B[38;5;124m\"\u001B[39m]]\u001B[38;5;241m.\u001B[39mto_pandas(),\n\u001B[1;32m     15\u001B[0m         data\u001B[38;5;241m.\u001B[39mfilter(pl\u001B[38;5;241m.\u001B[39mcol(\u001B[38;5;124m\"\u001B[39m\u001B[38;5;124mcase_id\u001B[39m\u001B[38;5;124m\"\u001B[39m)\u001B[38;5;241m.\u001B[39mis_in(case_ids))[cols_pred]\u001B[38;5;241m.\u001B[39mto_pandas(),\n\u001B[1;32m     16\u001B[0m         data\u001B[38;5;241m.\u001B[39mfilter(pl\u001B[38;5;241m.\u001B[39mcol(\u001B[38;5;124m\"\u001B[39m\u001B[38;5;124mcase_id\u001B[39m\u001B[38;5;124m\"\u001B[39m)\u001B[38;5;241m.\u001B[39mis_in(case_ids))[\u001B[38;5;124m\"\u001B[39m\u001B[38;5;124mtarget\u001B[39m\u001B[38;5;124m\"\u001B[39m]\u001B[38;5;241m.\u001B[39mto_pandas()\n\u001B[1;32m     17\u001B[0m     )\n",
      "File \u001B[0;32m/opt/homebrew/lib/python3.11/site-packages/pandas/core/generic.py:5793\u001B[0m, in \u001B[0;36mNDFrame.filter\u001B[0;34m(self, items, like, regex, axis)\u001B[0m\n\u001B[1;32m   5791\u001B[0m \u001B[38;5;28;01mif\u001B[39;00m items \u001B[38;5;129;01mis\u001B[39;00m \u001B[38;5;129;01mnot\u001B[39;00m \u001B[38;5;28;01mNone\u001B[39;00m:\n\u001B[1;32m   5792\u001B[0m     name \u001B[38;5;241m=\u001B[39m \u001B[38;5;28mself\u001B[39m\u001B[38;5;241m.\u001B[39m_get_axis_name(axis)\n\u001B[0;32m-> 5793\u001B[0m     items \u001B[38;5;241m=\u001B[39m \u001B[43mIndex\u001B[49m\u001B[43m(\u001B[49m\u001B[43mitems\u001B[49m\u001B[43m)\u001B[49m\u001B[38;5;241m.\u001B[39mintersection(labels)\n\u001B[1;32m   5794\u001B[0m     \u001B[38;5;28;01mif\u001B[39;00m \u001B[38;5;28mlen\u001B[39m(items) \u001B[38;5;241m==\u001B[39m \u001B[38;5;241m0\u001B[39m:\n\u001B[1;32m   5795\u001B[0m         \u001B[38;5;66;03m# Keep the dtype of labels when we are empty\u001B[39;00m\n\u001B[1;32m   5796\u001B[0m         items \u001B[38;5;241m=\u001B[39m items\u001B[38;5;241m.\u001B[39mastype(labels\u001B[38;5;241m.\u001B[39mdtype)\n",
      "File \u001B[0;32m/opt/homebrew/lib/python3.11/site-packages/pandas/core/indexes/base.py:532\u001B[0m, in \u001B[0;36mIndex.__new__\u001B[0;34m(cls, data, dtype, copy, name, tupleize_cols)\u001B[0m\n\u001B[1;32m    528\u001B[0m     \u001B[38;5;28;01mreturn\u001B[39;00m \u001B[38;5;28mcls\u001B[39m(np\u001B[38;5;241m.\u001B[39masarray(data), dtype\u001B[38;5;241m=\u001B[39mdtype, copy\u001B[38;5;241m=\u001B[39mcopy, name\u001B[38;5;241m=\u001B[39mname)\n\u001B[1;32m    529\u001B[0m \u001B[38;5;28;01melif\u001B[39;00m \u001B[38;5;129;01mnot\u001B[39;00m is_list_like(data) \u001B[38;5;129;01mand\u001B[39;00m \u001B[38;5;129;01mnot\u001B[39;00m \u001B[38;5;28misinstance\u001B[39m(data, \u001B[38;5;28mmemoryview\u001B[39m):\n\u001B[1;32m    530\u001B[0m     \u001B[38;5;66;03m# 2022-11-16 the memoryview check is only necessary on some CI\u001B[39;00m\n\u001B[1;32m    531\u001B[0m     \u001B[38;5;66;03m#  builds, not clear why\u001B[39;00m\n\u001B[0;32m--> 532\u001B[0m     \u001B[38;5;28;01mraise\u001B[39;00m \u001B[38;5;28;43mcls\u001B[39;49m\u001B[38;5;241;43m.\u001B[39;49m\u001B[43m_raise_scalar_data_error\u001B[49m\u001B[43m(\u001B[49m\u001B[43mdata\u001B[49m\u001B[43m)\u001B[49m\n\u001B[1;32m    534\u001B[0m \u001B[38;5;28;01melse\u001B[39;00m:\n\u001B[1;32m    535\u001B[0m     \u001B[38;5;28;01mif\u001B[39;00m tupleize_cols:\n\u001B[1;32m    536\u001B[0m         \u001B[38;5;66;03m# GH21470: convert iterable to list before determining if empty\u001B[39;00m\n",
      "File \u001B[0;32m/opt/homebrew/lib/python3.11/site-packages/pandas/core/indexes/base.py:5289\u001B[0m, in \u001B[0;36mIndex._raise_scalar_data_error\u001B[0;34m(cls, data)\u001B[0m\n\u001B[1;32m   5284\u001B[0m \u001B[38;5;129m@final\u001B[39m\n\u001B[1;32m   5285\u001B[0m \u001B[38;5;129m@classmethod\u001B[39m\n\u001B[1;32m   5286\u001B[0m \u001B[38;5;28;01mdef\u001B[39;00m \u001B[38;5;21m_raise_scalar_data_error\u001B[39m(\u001B[38;5;28mcls\u001B[39m, data):\n\u001B[1;32m   5287\u001B[0m     \u001B[38;5;66;03m# We return the TypeError so that we can raise it from the constructor\u001B[39;00m\n\u001B[1;32m   5288\u001B[0m     \u001B[38;5;66;03m#  in order to keep mypy happy\u001B[39;00m\n\u001B[0;32m-> 5289\u001B[0m     \u001B[38;5;28;01mraise\u001B[39;00m \u001B[38;5;167;01mTypeError\u001B[39;00m(\n\u001B[1;32m   5290\u001B[0m         \u001B[38;5;124mf\u001B[39m\u001B[38;5;124m\"\u001B[39m\u001B[38;5;132;01m{\u001B[39;00m\u001B[38;5;28mcls\u001B[39m\u001B[38;5;241m.\u001B[39m\u001B[38;5;18m__name__\u001B[39m\u001B[38;5;132;01m}\u001B[39;00m\u001B[38;5;124m(...) must be called with a collection of some \u001B[39m\u001B[38;5;124m\"\u001B[39m\n\u001B[1;32m   5291\u001B[0m         \u001B[38;5;124mf\u001B[39m\u001B[38;5;124m\"\u001B[39m\u001B[38;5;124mkind, \u001B[39m\u001B[38;5;132;01m{\u001B[39;00m\u001B[38;5;28mrepr\u001B[39m(data)\u001B[38;5;250m \u001B[39m\u001B[38;5;28;01mif\u001B[39;00m\u001B[38;5;250m \u001B[39m\u001B[38;5;129;01mnot\u001B[39;00m\u001B[38;5;250m \u001B[39m\u001B[38;5;28misinstance\u001B[39m(data,\u001B[38;5;250m \u001B[39mnp\u001B[38;5;241m.\u001B[39mgeneric)\u001B[38;5;250m \u001B[39m\u001B[38;5;28;01melse\u001B[39;00m\u001B[38;5;250m \u001B[39m\u001B[38;5;28mstr\u001B[39m(data)\u001B[38;5;132;01m}\u001B[39;00m\u001B[38;5;124m \u001B[39m\u001B[38;5;124m\"\u001B[39m\n\u001B[1;32m   5292\u001B[0m         \u001B[38;5;124m\"\u001B[39m\u001B[38;5;124mwas passed\u001B[39m\u001B[38;5;124m\"\u001B[39m\n\u001B[1;32m   5293\u001B[0m     )\n",
      "\u001B[0;31mTypeError\u001B[0m: Index(...) must be called with a collection of some kind, <Expr ['col(\"case_id\").is_in([Series])'] at 0x480147950> was passed"
     ]
    }
   ],
   "execution_count": 25
  },
  {
   "cell_type": "code",
   "source": "print(f\"Train: {X_train.shape}\")\nprint(f\"Valid: {X_valid.shape}\")\nprint(f\"Test: {X_test.shape}\")",
   "metadata": {
    "execution": {
     "iopub.status.busy": "2024-02-07T21:25:28.52813Z",
     "iopub.execute_input": "2024-02-07T21:25:28.529014Z",
     "iopub.status.idle": "2024-02-07T21:25:28.534479Z",
     "shell.execute_reply.started": "2024-02-07T21:25:28.528913Z",
     "shell.execute_reply": "2024-02-07T21:25:28.53334Z"
    },
    "trusted": true,
    "ExecuteTime": {
     "end_time": "2024-05-25T17:40:56.721700Z",
     "start_time": "2024-05-25T17:40:56.719638Z"
    }
   },
   "outputs": [
    {
     "name": "stdout",
     "output_type": "stream",
     "text": [
      "Train: (600, 2)\n",
      "Valid: (199, 2)\n",
      "Test: (201, 2)\n"
     ]
    }
   ],
   "execution_count": 20
  },
  {
   "cell_type": "markdown",
   "source": "## Training LightGBM\n\nMinimal example of LightGBM training is shown below.",
   "metadata": {}
  },
  {
   "cell_type": "code",
   "source": "lgb_train = lgb.Dataset(X_train, label=y_train)\nlgb_valid = lgb.Dataset(X_valid, label=y_valid, reference=lgb_train)\n\nparams = {\n    \"boosting_type\": \"gbdt\",\n    \"objective\": \"binary\",\n    \"metric\": \"auc\",\n    \"max_depth\": 3,\n    \"num_leaves\": 31,\n    \"learning_rate\": 0.05,\n    \"feature_fraction\": 0.9,\n    \"bagging_fraction\": 0.8,\n    \"bagging_freq\": 5,\n    \"n_estimators\": 1000,\n    \"verbose\": -1,\n}\n\ngbm = lgb.train(\n    params,\n    lgb_train,\n    valid_sets=lgb_valid,\n    callbacks=[lgb.log_evaluation(50), lgb.early_stopping(10)]\n)",
   "metadata": {
    "execution": {
     "iopub.status.busy": "2024-02-07T21:25:28.535756Z",
     "iopub.execute_input": "2024-02-07T21:25:28.536641Z",
     "iopub.status.idle": "2024-02-07T21:26:56.543315Z",
     "shell.execute_reply.started": "2024-02-07T21:25:28.5366Z",
     "shell.execute_reply": "2024-02-07T21:26:56.541627Z"
    },
    "trusted": true,
    "ExecuteTime": {
     "end_time": "2024-05-25T17:40:56.890445Z",
     "start_time": "2024-05-25T17:40:56.722629Z"
    }
   },
   "outputs": [
    {
     "name": "stderr",
     "output_type": "stream",
     "text": [
      "/opt/homebrew/lib/python3.11/site-packages/lightgbm/engine.py:172: UserWarning: Found `n_estimators` in params. Will use it instead of argument\n",
      "  _log_warning(f\"Found `{alias}` in params. Will use it instead of argument\")\n"
     ]
    },
    {
     "ename": "ValueError",
     "evalue": "pandas dtypes must be int, float or bool.\nFields with bad pandas dtypes: exampleA: object, exampleB: object",
     "output_type": "error",
     "traceback": [
      "\u001B[0;31m---------------------------------------------------------------------------\u001B[0m",
      "\u001B[0;31mValueError\u001B[0m                                Traceback (most recent call last)",
      "Cell \u001B[0;32mIn[21], line 18\u001B[0m\n\u001B[1;32m      2\u001B[0m lgb_valid \u001B[38;5;241m=\u001B[39m lgb\u001B[38;5;241m.\u001B[39mDataset(X_valid, label\u001B[38;5;241m=\u001B[39my_valid, reference\u001B[38;5;241m=\u001B[39mlgb_train)\n\u001B[1;32m      4\u001B[0m params \u001B[38;5;241m=\u001B[39m {\n\u001B[1;32m      5\u001B[0m     \u001B[38;5;124m\"\u001B[39m\u001B[38;5;124mboosting_type\u001B[39m\u001B[38;5;124m\"\u001B[39m: \u001B[38;5;124m\"\u001B[39m\u001B[38;5;124mgbdt\u001B[39m\u001B[38;5;124m\"\u001B[39m,\n\u001B[1;32m      6\u001B[0m     \u001B[38;5;124m\"\u001B[39m\u001B[38;5;124mobjective\u001B[39m\u001B[38;5;124m\"\u001B[39m: \u001B[38;5;124m\"\u001B[39m\u001B[38;5;124mbinary\u001B[39m\u001B[38;5;124m\"\u001B[39m,\n\u001B[0;32m   (...)\u001B[0m\n\u001B[1;32m     15\u001B[0m     \u001B[38;5;124m\"\u001B[39m\u001B[38;5;124mverbose\u001B[39m\u001B[38;5;124m\"\u001B[39m: \u001B[38;5;241m-\u001B[39m\u001B[38;5;241m1\u001B[39m,\n\u001B[1;32m     16\u001B[0m }\n\u001B[0;32m---> 18\u001B[0m gbm \u001B[38;5;241m=\u001B[39m \u001B[43mlgb\u001B[49m\u001B[38;5;241;43m.\u001B[39;49m\u001B[43mtrain\u001B[49m\u001B[43m(\u001B[49m\n\u001B[1;32m     19\u001B[0m \u001B[43m    \u001B[49m\u001B[43mparams\u001B[49m\u001B[43m,\u001B[49m\n\u001B[1;32m     20\u001B[0m \u001B[43m    \u001B[49m\u001B[43mlgb_train\u001B[49m\u001B[43m,\u001B[49m\n\u001B[1;32m     21\u001B[0m \u001B[43m    \u001B[49m\u001B[43mvalid_sets\u001B[49m\u001B[38;5;241;43m=\u001B[39;49m\u001B[43mlgb_valid\u001B[49m\u001B[43m,\u001B[49m\n\u001B[1;32m     22\u001B[0m \u001B[43m    \u001B[49m\u001B[43mcallbacks\u001B[49m\u001B[38;5;241;43m=\u001B[39;49m\u001B[43m[\u001B[49m\u001B[43mlgb\u001B[49m\u001B[38;5;241;43m.\u001B[39;49m\u001B[43mlog_evaluation\u001B[49m\u001B[43m(\u001B[49m\u001B[38;5;241;43m50\u001B[39;49m\u001B[43m)\u001B[49m\u001B[43m,\u001B[49m\u001B[43m \u001B[49m\u001B[43mlgb\u001B[49m\u001B[38;5;241;43m.\u001B[39;49m\u001B[43mearly_stopping\u001B[49m\u001B[43m(\u001B[49m\u001B[38;5;241;43m10\u001B[39;49m\u001B[43m)\u001B[49m\u001B[43m]\u001B[49m\n\u001B[1;32m     23\u001B[0m \u001B[43m)\u001B[49m\n",
      "File \u001B[0;32m/opt/homebrew/lib/python3.11/site-packages/lightgbm/engine.py:255\u001B[0m, in \u001B[0;36mtrain\u001B[0;34m(params, train_set, num_boost_round, valid_sets, valid_names, feval, init_model, feature_name, categorical_feature, keep_training_booster, callbacks)\u001B[0m\n\u001B[1;32m    253\u001B[0m \u001B[38;5;66;03m# construct booster\u001B[39;00m\n\u001B[1;32m    254\u001B[0m \u001B[38;5;28;01mtry\u001B[39;00m:\n\u001B[0;32m--> 255\u001B[0m     booster \u001B[38;5;241m=\u001B[39m \u001B[43mBooster\u001B[49m\u001B[43m(\u001B[49m\u001B[43mparams\u001B[49m\u001B[38;5;241;43m=\u001B[39;49m\u001B[43mparams\u001B[49m\u001B[43m,\u001B[49m\u001B[43m \u001B[49m\u001B[43mtrain_set\u001B[49m\u001B[38;5;241;43m=\u001B[39;49m\u001B[43mtrain_set\u001B[49m\u001B[43m)\u001B[49m\n\u001B[1;32m    256\u001B[0m     \u001B[38;5;28;01mif\u001B[39;00m is_valid_contain_train:\n\u001B[1;32m    257\u001B[0m         booster\u001B[38;5;241m.\u001B[39mset_train_data_name(train_data_name)\n",
      "File \u001B[0;32m/opt/homebrew/lib/python3.11/site-packages/lightgbm/basic.py:3433\u001B[0m, in \u001B[0;36mBooster.__init__\u001B[0;34m(self, params, train_set, model_file, model_str)\u001B[0m\n\u001B[1;32m   3426\u001B[0m     \u001B[38;5;28mself\u001B[39m\u001B[38;5;241m.\u001B[39mset_network(\n\u001B[1;32m   3427\u001B[0m         machines\u001B[38;5;241m=\u001B[39mmachines,\n\u001B[1;32m   3428\u001B[0m         local_listen_port\u001B[38;5;241m=\u001B[39mparams[\u001B[38;5;124m\"\u001B[39m\u001B[38;5;124mlocal_listen_port\u001B[39m\u001B[38;5;124m\"\u001B[39m],\n\u001B[1;32m   3429\u001B[0m         listen_time_out\u001B[38;5;241m=\u001B[39mparams\u001B[38;5;241m.\u001B[39mget(\u001B[38;5;124m\"\u001B[39m\u001B[38;5;124mtime_out\u001B[39m\u001B[38;5;124m\"\u001B[39m, \u001B[38;5;241m120\u001B[39m),\n\u001B[1;32m   3430\u001B[0m         num_machines\u001B[38;5;241m=\u001B[39mparams[\u001B[38;5;124m\"\u001B[39m\u001B[38;5;124mnum_machines\u001B[39m\u001B[38;5;124m\"\u001B[39m]\n\u001B[1;32m   3431\u001B[0m     )\n\u001B[1;32m   3432\u001B[0m \u001B[38;5;66;03m# construct booster object\u001B[39;00m\n\u001B[0;32m-> 3433\u001B[0m \u001B[43mtrain_set\u001B[49m\u001B[38;5;241;43m.\u001B[39;49m\u001B[43mconstruct\u001B[49m\u001B[43m(\u001B[49m\u001B[43m)\u001B[49m\n\u001B[1;32m   3434\u001B[0m \u001B[38;5;66;03m# copy the parameters from train_set\u001B[39;00m\n\u001B[1;32m   3435\u001B[0m params\u001B[38;5;241m.\u001B[39mupdate(train_set\u001B[38;5;241m.\u001B[39mget_params())\n",
      "File \u001B[0;32m/opt/homebrew/lib/python3.11/site-packages/lightgbm/basic.py:2462\u001B[0m, in \u001B[0;36mDataset.construct\u001B[0;34m(self)\u001B[0m\n\u001B[1;32m   2455\u001B[0m             \u001B[38;5;28mself\u001B[39m\u001B[38;5;241m.\u001B[39m_set_init_score_by_predictor(\n\u001B[1;32m   2456\u001B[0m                 predictor\u001B[38;5;241m=\u001B[39m\u001B[38;5;28mself\u001B[39m\u001B[38;5;241m.\u001B[39m_predictor,\n\u001B[1;32m   2457\u001B[0m                 data\u001B[38;5;241m=\u001B[39m\u001B[38;5;28mself\u001B[39m\u001B[38;5;241m.\u001B[39mdata,\n\u001B[1;32m   2458\u001B[0m                 used_indices\u001B[38;5;241m=\u001B[39mused_indices\n\u001B[1;32m   2459\u001B[0m             )\n\u001B[1;32m   2460\u001B[0m \u001B[38;5;28;01melse\u001B[39;00m:\n\u001B[1;32m   2461\u001B[0m     \u001B[38;5;66;03m# create train\u001B[39;00m\n\u001B[0;32m-> 2462\u001B[0m     \u001B[38;5;28;43mself\u001B[39;49m\u001B[38;5;241;43m.\u001B[39;49m\u001B[43m_lazy_init\u001B[49m\u001B[43m(\u001B[49m\u001B[43mdata\u001B[49m\u001B[38;5;241;43m=\u001B[39;49m\u001B[38;5;28;43mself\u001B[39;49m\u001B[38;5;241;43m.\u001B[39;49m\u001B[43mdata\u001B[49m\u001B[43m,\u001B[49m\u001B[43m \u001B[49m\u001B[43mlabel\u001B[49m\u001B[38;5;241;43m=\u001B[39;49m\u001B[38;5;28;43mself\u001B[39;49m\u001B[38;5;241;43m.\u001B[39;49m\u001B[43mlabel\u001B[49m\u001B[43m,\u001B[49m\u001B[43m \u001B[49m\u001B[43mreference\u001B[49m\u001B[38;5;241;43m=\u001B[39;49m\u001B[38;5;28;43;01mNone\u001B[39;49;00m\u001B[43m,\u001B[49m\n\u001B[1;32m   2463\u001B[0m \u001B[43m                    \u001B[49m\u001B[43mweight\u001B[49m\u001B[38;5;241;43m=\u001B[39;49m\u001B[38;5;28;43mself\u001B[39;49m\u001B[38;5;241;43m.\u001B[39;49m\u001B[43mweight\u001B[49m\u001B[43m,\u001B[49m\u001B[43m \u001B[49m\u001B[43mgroup\u001B[49m\u001B[38;5;241;43m=\u001B[39;49m\u001B[38;5;28;43mself\u001B[39;49m\u001B[38;5;241;43m.\u001B[39;49m\u001B[43mgroup\u001B[49m\u001B[43m,\u001B[49m\n\u001B[1;32m   2464\u001B[0m \u001B[43m                    \u001B[49m\u001B[43minit_score\u001B[49m\u001B[38;5;241;43m=\u001B[39;49m\u001B[38;5;28;43mself\u001B[39;49m\u001B[38;5;241;43m.\u001B[39;49m\u001B[43minit_score\u001B[49m\u001B[43m,\u001B[49m\u001B[43m \u001B[49m\u001B[43mpredictor\u001B[49m\u001B[38;5;241;43m=\u001B[39;49m\u001B[38;5;28;43mself\u001B[39;49m\u001B[38;5;241;43m.\u001B[39;49m\u001B[43m_predictor\u001B[49m\u001B[43m,\u001B[49m\n\u001B[1;32m   2465\u001B[0m \u001B[43m                    \u001B[49m\u001B[43mfeature_name\u001B[49m\u001B[38;5;241;43m=\u001B[39;49m\u001B[38;5;28;43mself\u001B[39;49m\u001B[38;5;241;43m.\u001B[39;49m\u001B[43mfeature_name\u001B[49m\u001B[43m,\u001B[49m\u001B[43m \u001B[49m\u001B[43mcategorical_feature\u001B[49m\u001B[38;5;241;43m=\u001B[39;49m\u001B[38;5;28;43mself\u001B[39;49m\u001B[38;5;241;43m.\u001B[39;49m\u001B[43mcategorical_feature\u001B[49m\u001B[43m,\u001B[49m\n\u001B[1;32m   2466\u001B[0m \u001B[43m                    \u001B[49m\u001B[43mparams\u001B[49m\u001B[38;5;241;43m=\u001B[39;49m\u001B[38;5;28;43mself\u001B[39;49m\u001B[38;5;241;43m.\u001B[39;49m\u001B[43mparams\u001B[49m\u001B[43m,\u001B[49m\u001B[43m \u001B[49m\u001B[43mposition\u001B[49m\u001B[38;5;241;43m=\u001B[39;49m\u001B[38;5;28;43mself\u001B[39;49m\u001B[38;5;241;43m.\u001B[39;49m\u001B[43mposition\u001B[49m\u001B[43m)\u001B[49m\n\u001B[1;32m   2467\u001B[0m \u001B[38;5;28;01mif\u001B[39;00m \u001B[38;5;28mself\u001B[39m\u001B[38;5;241m.\u001B[39mfree_raw_data:\n\u001B[1;32m   2468\u001B[0m     \u001B[38;5;28mself\u001B[39m\u001B[38;5;241m.\u001B[39mdata \u001B[38;5;241m=\u001B[39m \u001B[38;5;28;01mNone\u001B[39;00m\n",
      "File \u001B[0;32m/opt/homebrew/lib/python3.11/site-packages/lightgbm/basic.py:2022\u001B[0m, in \u001B[0;36mDataset._lazy_init\u001B[0;34m(self, data, label, reference, weight, group, init_score, predictor, feature_name, categorical_feature, params, position)\u001B[0m\n\u001B[1;32m   2020\u001B[0m     categorical_feature \u001B[38;5;241m=\u001B[39m reference\u001B[38;5;241m.\u001B[39mcategorical_feature\n\u001B[1;32m   2021\u001B[0m \u001B[38;5;28;01mif\u001B[39;00m \u001B[38;5;28misinstance\u001B[39m(data, pd_DataFrame):\n\u001B[0;32m-> 2022\u001B[0m     data, feature_name, categorical_feature, \u001B[38;5;28mself\u001B[39m\u001B[38;5;241m.\u001B[39mpandas_categorical \u001B[38;5;241m=\u001B[39m \u001B[43m_data_from_pandas\u001B[49m\u001B[43m(\u001B[49m\n\u001B[1;32m   2023\u001B[0m \u001B[43m        \u001B[49m\u001B[43mdata\u001B[49m\u001B[38;5;241;43m=\u001B[39;49m\u001B[43mdata\u001B[49m\u001B[43m,\u001B[49m\n\u001B[1;32m   2024\u001B[0m \u001B[43m        \u001B[49m\u001B[43mfeature_name\u001B[49m\u001B[38;5;241;43m=\u001B[39;49m\u001B[43mfeature_name\u001B[49m\u001B[43m,\u001B[49m\n\u001B[1;32m   2025\u001B[0m \u001B[43m        \u001B[49m\u001B[43mcategorical_feature\u001B[49m\u001B[38;5;241;43m=\u001B[39;49m\u001B[43mcategorical_feature\u001B[49m\u001B[43m,\u001B[49m\n\u001B[1;32m   2026\u001B[0m \u001B[43m        \u001B[49m\u001B[43mpandas_categorical\u001B[49m\u001B[38;5;241;43m=\u001B[39;49m\u001B[38;5;28;43mself\u001B[39;49m\u001B[38;5;241;43m.\u001B[39;49m\u001B[43mpandas_categorical\u001B[49m\n\u001B[1;32m   2027\u001B[0m \u001B[43m    \u001B[49m\u001B[43m)\u001B[49m\n\u001B[1;32m   2029\u001B[0m \u001B[38;5;66;03m# process for args\u001B[39;00m\n\u001B[1;32m   2030\u001B[0m params \u001B[38;5;241m=\u001B[39m {} \u001B[38;5;28;01mif\u001B[39;00m params \u001B[38;5;129;01mis\u001B[39;00m \u001B[38;5;28;01mNone\u001B[39;00m \u001B[38;5;28;01melse\u001B[39;00m params\n",
      "File \u001B[0;32m/opt/homebrew/lib/python3.11/site-packages/lightgbm/basic.py:825\u001B[0m, in \u001B[0;36m_data_from_pandas\u001B[0;34m(data, feature_name, categorical_feature, pandas_categorical)\u001B[0m\n\u001B[1;32m    821\u001B[0m df_dtypes\u001B[38;5;241m.\u001B[39mappend(np\u001B[38;5;241m.\u001B[39mfloat32)\n\u001B[1;32m    822\u001B[0m target_dtype \u001B[38;5;241m=\u001B[39m np\u001B[38;5;241m.\u001B[39mresult_type(\u001B[38;5;241m*\u001B[39mdf_dtypes)\n\u001B[1;32m    824\u001B[0m \u001B[38;5;28;01mreturn\u001B[39;00m (\n\u001B[0;32m--> 825\u001B[0m     \u001B[43m_pandas_to_numpy\u001B[49m\u001B[43m(\u001B[49m\u001B[43mdata\u001B[49m\u001B[43m,\u001B[49m\u001B[43m \u001B[49m\u001B[43mtarget_dtype\u001B[49m\u001B[38;5;241;43m=\u001B[39;49m\u001B[43mtarget_dtype\u001B[49m\u001B[43m)\u001B[49m,\n\u001B[1;32m    826\u001B[0m     feature_name,\n\u001B[1;32m    827\u001B[0m     categorical_feature,\n\u001B[1;32m    828\u001B[0m     pandas_categorical\n\u001B[1;32m    829\u001B[0m )\n",
      "File \u001B[0;32m/opt/homebrew/lib/python3.11/site-packages/lightgbm/basic.py:771\u001B[0m, in \u001B[0;36m_pandas_to_numpy\u001B[0;34m(data, target_dtype)\u001B[0m\n\u001B[1;32m    767\u001B[0m \u001B[38;5;28;01mdef\u001B[39;00m \u001B[38;5;21m_pandas_to_numpy\u001B[39m(\n\u001B[1;32m    768\u001B[0m     data: pd_DataFrame,\n\u001B[1;32m    769\u001B[0m     target_dtype: \u001B[38;5;124m\"\u001B[39m\u001B[38;5;124mnp.typing.DTypeLike\u001B[39m\u001B[38;5;124m\"\u001B[39m\n\u001B[1;32m    770\u001B[0m ) \u001B[38;5;241m-\u001B[39m\u001B[38;5;241m>\u001B[39m np\u001B[38;5;241m.\u001B[39mndarray:\n\u001B[0;32m--> 771\u001B[0m     \u001B[43m_check_for_bad_pandas_dtypes\u001B[49m\u001B[43m(\u001B[49m\u001B[43mdata\u001B[49m\u001B[38;5;241;43m.\u001B[39;49m\u001B[43mdtypes\u001B[49m\u001B[43m)\u001B[49m\n\u001B[1;32m    772\u001B[0m     \u001B[38;5;28;01mtry\u001B[39;00m:\n\u001B[1;32m    773\u001B[0m         \u001B[38;5;66;03m# most common case (no nullable dtypes)\u001B[39;00m\n\u001B[1;32m    774\u001B[0m         \u001B[38;5;28;01mreturn\u001B[39;00m data\u001B[38;5;241m.\u001B[39mto_numpy(dtype\u001B[38;5;241m=\u001B[39mtarget_dtype, copy\u001B[38;5;241m=\u001B[39m\u001B[38;5;28;01mFalse\u001B[39;00m)\n",
      "File \u001B[0;32m/opt/homebrew/lib/python3.11/site-packages/lightgbm/basic.py:763\u001B[0m, in \u001B[0;36m_check_for_bad_pandas_dtypes\u001B[0;34m(pandas_dtypes_series)\u001B[0m\n\u001B[1;32m    757\u001B[0m bad_pandas_dtypes \u001B[38;5;241m=\u001B[39m [\n\u001B[1;32m    758\u001B[0m     \u001B[38;5;124mf\u001B[39m\u001B[38;5;124m'\u001B[39m\u001B[38;5;132;01m{\u001B[39;00mcolumn_name\u001B[38;5;132;01m}\u001B[39;00m\u001B[38;5;124m: \u001B[39m\u001B[38;5;132;01m{\u001B[39;00mpandas_dtype\u001B[38;5;132;01m}\u001B[39;00m\u001B[38;5;124m'\u001B[39m\n\u001B[1;32m    759\u001B[0m     \u001B[38;5;28;01mfor\u001B[39;00m column_name, pandas_dtype \u001B[38;5;129;01min\u001B[39;00m pandas_dtypes_series\u001B[38;5;241m.\u001B[39mitems()\n\u001B[1;32m    760\u001B[0m     \u001B[38;5;28;01mif\u001B[39;00m \u001B[38;5;129;01mnot\u001B[39;00m _is_allowed_numpy_dtype(pandas_dtype\u001B[38;5;241m.\u001B[39mtype)\n\u001B[1;32m    761\u001B[0m ]\n\u001B[1;32m    762\u001B[0m \u001B[38;5;28;01mif\u001B[39;00m bad_pandas_dtypes:\n\u001B[0;32m--> 763\u001B[0m     \u001B[38;5;28;01mraise\u001B[39;00m \u001B[38;5;167;01mValueError\u001B[39;00m(\u001B[38;5;124m'\u001B[39m\u001B[38;5;124mpandas dtypes must be int, float or bool.\u001B[39m\u001B[38;5;130;01m\\n\u001B[39;00m\u001B[38;5;124m'\u001B[39m\n\u001B[1;32m    764\u001B[0m                      \u001B[38;5;124mf\u001B[39m\u001B[38;5;124m'\u001B[39m\u001B[38;5;124mFields with bad pandas dtypes: \u001B[39m\u001B[38;5;132;01m{\u001B[39;00m\u001B[38;5;124m\"\u001B[39m\u001B[38;5;124m, \u001B[39m\u001B[38;5;124m\"\u001B[39m\u001B[38;5;241m.\u001B[39mjoin(bad_pandas_dtypes)\u001B[38;5;132;01m}\u001B[39;00m\u001B[38;5;124m'\u001B[39m)\n",
      "\u001B[0;31mValueError\u001B[0m: pandas dtypes must be int, float or bool.\nFields with bad pandas dtypes: exampleA: object, exampleB: object"
     ]
    }
   ],
   "execution_count": 21
  },
  {
   "cell_type": "markdown",
   "source": "Evaluation with AUC and then comparison with the stability metric is shown below.",
   "metadata": {}
  },
  {
   "cell_type": "code",
   "source": "for base, X in [(base_train, X_train), (base_valid, X_valid), (base_test, X_test)]:\n    y_pred = gbm.predict(X, num_iteration=gbm.best_iteration)\n    base[\"score\"] = y_pred\n\nprint(f'The AUC score on the train set is: {roc_auc_score(base_train[\"target\"], base_train[\"score\"])}') \nprint(f'The AUC score on the valid set is: {roc_auc_score(base_valid[\"target\"], base_valid[\"score\"])}') \nprint(f'The AUC score on the test set is: {roc_auc_score(base_test[\"target\"], base_test[\"score\"])}')  ",
   "metadata": {
    "execution": {
     "iopub.status.busy": "2024-02-07T21:26:56.547044Z",
     "iopub.execute_input": "2024-02-07T21:26:56.547522Z",
     "iopub.status.idle": "2024-02-07T21:27:22.5052Z",
     "shell.execute_reply.started": "2024-02-07T21:26:56.547479Z",
     "shell.execute_reply": "2024-02-07T21:27:22.503776Z"
    },
    "trusted": true
   },
   "outputs": [],
   "execution_count": null
  },
  {
   "cell_type": "code",
   "source": "def gini_stability(base, w_fallingrate=88.0, w_resstd=-0.5):\n    gini_in_time = base.loc[:, [\"WEEK_NUM\", \"target\", \"score\"]]\\\n        .sort_values(\"WEEK_NUM\")\\\n        .groupby(\"WEEK_NUM\")[[\"target\", \"score\"]]\\\n        .apply(lambda x: 2*roc_auc_score(x[\"target\"], x[\"score\"])-1).tolist()\n    \n    x = np.arange(len(gini_in_time))\n    y = gini_in_time\n    a, b = np.polyfit(x, y, 1)\n    y_hat = a*x + b\n    residuals = y - y_hat\n    res_std = np.std(residuals)\n    avg_gini = np.mean(gini_in_time)\n    return avg_gini + w_fallingrate * min(0, a) + w_resstd * res_std\n\nstability_score_train = gini_stability(base_train)\nstability_score_valid = gini_stability(base_valid)\nstability_score_test = gini_stability(base_test)\n\nprint(f'The stability score on the train set is: {stability_score_train}') \nprint(f'The stability score on the valid set is: {stability_score_valid}') \nprint(f'The stability score on the test set is: {stability_score_test}')  ",
   "metadata": {
    "execution": {
     "iopub.status.busy": "2024-02-07T21:27:22.506645Z",
     "iopub.execute_input": "2024-02-07T21:27:22.507036Z",
     "iopub.status.idle": "2024-02-07T21:27:23.796452Z",
     "shell.execute_reply.started": "2024-02-07T21:27:22.507Z",
     "shell.execute_reply": "2024-02-07T21:27:23.79501Z"
    },
    "trusted": true
   },
   "outputs": [],
   "execution_count": null
  },
  {
   "cell_type": "markdown",
   "source": "## Submission\n\nScoring the submission dataset is below, we need to take care of new categories. Then we save the score as a last step. ",
   "metadata": {}
  },
  {
   "cell_type": "code",
   "source": "X_submission = data_submission[cols_pred].to_pandas()\nX_submission = convert_strings(X_submission)\ncategorical_cols = X_train.select_dtypes(include=['category']).columns\n\nfor col in categorical_cols:\n    train_categories = set(X_train[col].cat.categories)\n    submission_categories = set(X_submission[col].cat.categories)\n    new_categories = submission_categories - train_categories\n    X_submission.loc[X_submission[col].isin(new_categories), col] = \"Unknown\"\n    new_dtype = pd.CategoricalDtype(categories=train_categories, ordered=True)\n    X_train[col] = X_train[col].astype(new_dtype)\n    X_submission[col] = X_submission[col].astype(new_dtype)\n\ny_submission_pred = gbm.predict(X_submission, num_iteration=gbm.best_iteration)",
   "metadata": {
    "execution": {
     "iopub.status.busy": "2024-02-07T21:27:23.798139Z",
     "iopub.execute_input": "2024-02-07T21:27:23.798639Z",
     "iopub.status.idle": "2024-02-07T21:27:23.946242Z",
     "shell.execute_reply.started": "2024-02-07T21:27:23.798595Z",
     "shell.execute_reply": "2024-02-07T21:27:23.944996Z"
    },
    "trusted": true
   },
   "outputs": [],
   "execution_count": null
  },
  {
   "cell_type": "code",
   "source": "submission = pd.DataFrame({\n    \"case_id\": data_submission[\"case_id\"].to_numpy(),\n    \"score\": y_submission_pred\n}).set_index('case_id')\nsubmission.to_csv(\"./submission.csv\")",
   "metadata": {
    "execution": {
     "iopub.status.busy": "2024-02-07T21:27:23.947771Z",
     "iopub.execute_input": "2024-02-07T21:27:23.948164Z",
     "iopub.status.idle": "2024-02-07T21:27:23.96104Z",
     "shell.execute_reply.started": "2024-02-07T21:27:23.948128Z",
     "shell.execute_reply": "2024-02-07T21:27:23.959969Z"
    },
    "trusted": true
   },
   "outputs": [],
   "execution_count": null
  }
 ]
}
